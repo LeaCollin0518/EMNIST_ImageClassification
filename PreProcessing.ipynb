{
 "cells": [
  {
   "cell_type": "markdown",
   "metadata": {},
   "source": [
    "## Loading Original Data"
   ]
  },
  {
   "cell_type": "code",
   "execution_count": 1,
   "metadata": {},
   "outputs": [],
   "source": [
    "from scipy import ndimage\n",
    "from skimage.transform import resize\n",
    "import numpy as np \n",
    "import matplotlib.pyplot as plt # to visualize only \n",
    "import pandas as pd\n",
    "import gc\n",
    "import numpy as np \n",
    "import cv2"
   ]
  },
  {
   "cell_type": "code",
   "execution_count": 33,
   "metadata": {},
   "outputs": [],
   "source": [
    "original_x = pd.read_csv(\"./data/train_x.csv\", delimiter=\",\", header = None) # load from text "
   ]
  },
  {
   "cell_type": "code",
   "execution_count": 2,
   "metadata": {},
   "outputs": [],
   "source": [
    "y = pd.read_csv(\"./data/train_y.csv\", delimiter = \",\", header = None)"
   ]
  },
  {
   "cell_type": "code",
   "execution_count": 34,
   "metadata": {},
   "outputs": [],
   "source": [
    "#have to reformat from data frame \n",
    "\n",
    "original_x = original_x.values\n",
    "\n",
    "original_x = original_x.astype(np.float32)"
   ]
  },
  {
   "cell_type": "code",
   "execution_count": 3,
   "metadata": {},
   "outputs": [],
   "source": [
    "y = (y.values).ravel()"
   ]
  },
  {
   "cell_type": "code",
   "execution_count": 4,
   "metadata": {},
   "outputs": [],
   "source": [
    "#visualizing 5 images indexes in array images by start and shows corresponding labels\n",
    "def plotter(images, labels, start):\n",
    "    plt.figure(figsize=(20,4))\n",
    "    for index, (image, label) in enumerate(zip(images[start:start+5], labels[start:start+5])):\n",
    "        plt.subplot(1, 5, index + 1)\n",
    "        plt.imshow(np.reshape(image, (64,64)), cmap= 'gray')\n",
    "        plt.title('Training: %i\\n' % label, fontsize = 20)"
   ]
  },
  {
   "cell_type": "code",
   "execution_count": null,
   "metadata": {},
   "outputs": [],
   "source": [
    "#plotter(original_x, y, 0)"
   ]
  },
  {
   "cell_type": "markdown",
   "metadata": {},
   "source": [
    "## Processing the data"
   ]
  },
  {
   "cell_type": "markdown",
   "metadata": {},
   "source": [
    "### Making background all black"
   ]
  },
  {
   "cell_type": "code",
   "execution_count": 44,
   "metadata": {},
   "outputs": [],
   "source": [
    "#since we know the numbers are white, can set a high threshold\n",
    "#and set anything below that threshold to be black (0)\n",
    "\n",
    "def binarize_element(x, threshold = 250):\n",
    "    #make this less than to get black digits and white background\n",
    "    if x > threshold:\n",
    "        x = 255\n",
    "        return x\n",
    "    else:\n",
    "        x = 0\n",
    "        return x"
   ]
  },
  {
   "cell_type": "code",
   "execution_count": 16,
   "metadata": {},
   "outputs": [],
   "source": [
    "def array_map(func, x):\n",
    "    return map(func, x)"
   ]
  },
  {
   "cell_type": "code",
   "execution_count": null,
   "metadata": {},
   "outputs": [],
   "source": [
    "#making the data black and white\n",
    "\n",
    "new_x = np.zeros((original_x.shape[0], original_x.shape[1]))\n",
    "for i in range(len(new_x)):\n",
    "    new_x[i] = list(array_map(binarize_element, original_x[i]))"
   ]
  },
  {
   "cell_type": "code",
   "execution_count": null,
   "metadata": {},
   "outputs": [],
   "source": [
    "#plotter(new_x, y, 0)"
   ]
  },
  {
   "cell_type": "code",
   "execution_count": null,
   "metadata": {},
   "outputs": [],
   "source": [
    "#writing the black and white images to a file\n",
    "df = pd.DataFrame(new_x)\n",
    "df.to_csv(\"./data/bw_x.csv\", header = False, index = False)"
   ]
  },
  {
   "cell_type": "code",
   "execution_count": 5,
   "metadata": {},
   "outputs": [],
   "source": [
    "#more preprocessing on the black and white images\n",
    "\n",
    "x = pd.read_csv(\"./data/bw_x.csv\", delimiter=\",\", header = None) # load from processed images"
   ]
  },
  {
   "cell_type": "code",
   "execution_count": 6,
   "metadata": {},
   "outputs": [],
   "source": [
    "x = x.values\n",
    "\n",
    "x = x.astype(np.float32)"
   ]
  },
  {
   "cell_type": "code",
   "execution_count": 8,
   "metadata": {
    "scrolled": false
   },
   "outputs": [],
   "source": [
    "#making sure the background is indeed black and the digits are white\n",
    "#plotter(x, y, 5)"
   ]
  },
  {
   "cell_type": "markdown",
   "metadata": {},
   "source": [
    "### Getting the largest digit"
   ]
  },
  {
   "cell_type": "code",
   "execution_count": 9,
   "metadata": {},
   "outputs": [],
   "source": [
    "new_x = np.zeros((x.shape[0], x.shape[1]))"
   ]
  },
  {
   "cell_type": "code",
   "execution_count": 10,
   "metadata": {},
   "outputs": [],
   "source": [
    "#first argument is original data, second argument is where new images will be stored\n",
    "\n",
    "def find_largest_digit(images, new_images):\n",
    "    for i in range(len(new_images)):\n",
    "        im = np.reshape(images[i], (64,64))\n",
    "        \n",
    "        # Label objects\n",
    "        labeled_image, num_features = ndimage.label(im)\n",
    "        \n",
    "        # Find the location of all objects\n",
    "        objs = ndimage.find_objects(labeled_image)\n",
    "        \n",
    "        # Get the height and width\n",
    "        measurements = []\n",
    "        for ob in objs:\n",
    "            measurements.append((int(ob[0].stop - ob[0].start), int(ob[1].stop - ob[1].start)))\n",
    "\n",
    "        #find the object (ie digit) with maximum height or width in the image\n",
    "        index = max(enumerate(measurements), key=lambda x: max(x[1]))[0]\n",
    "\n",
    "        min_y, max_y = objs[index][0].start, objs[index][0].stop\n",
    "        min_x, max_x = objs[index][1].start, objs[index][1].stop\n",
    "\n",
    "        #adding padding around number\n",
    "        if(min_y > 1):\n",
    "            min_y -= 2\n",
    "        if(max_y < 63):\n",
    "            max_y += 2\n",
    "        if(min_x > 1):\n",
    "            min_x -= 2\n",
    "        if(max_x < 63):\n",
    "            max_x += 2\n",
    "\n",
    "        #only get the largest digit\n",
    "        image = im[min_y:max_y,min_x:max_x]\n",
    "        image = image.astype(np.uint32)\n",
    "        \n",
    "        #resize the image\n",
    "        h,w = image.shape\n",
    "        img = resize(image, (64, 64), preserve_range=True, mode =  'reflect')\n",
    "\n",
    "        new_images[i] = img.reshape(4096)\n",
    "    "
   ]
  },
  {
   "cell_type": "code",
   "execution_count": 11,
   "metadata": {},
   "outputs": [],
   "source": [
    "find_largest_digit(x, new_x)"
   ]
  },
  {
   "cell_type": "markdown",
   "metadata": {},
   "source": [
    "### Inverting black & white"
   ]
  },
  {
   "cell_type": "code",
   "execution_count": 13,
   "metadata": {},
   "outputs": [],
   "source": [
    "#better to make the digits black and the background white\n",
    "\n",
    "def invert_element(x):\n",
    "    if x != 0:\n",
    "        x = 0\n",
    "        return x\n",
    "    else:\n",
    "        x = 255\n",
    "        return x"
   ]
  },
  {
   "cell_type": "code",
   "execution_count": 17,
   "metadata": {},
   "outputs": [],
   "source": [
    "bw_x = np.zeros((new_x.shape[0],new_x.shape[1]))\n",
    "for i in range(len(bw_x)):\n",
    "    bw_x[i] = list(array_map(invert_element, new_x[i]))"
   ]
  },
  {
   "cell_type": "markdown",
   "metadata": {},
   "source": [
    "### Blurring digit"
   ]
  },
  {
   "cell_type": "code",
   "execution_count": 54,
   "metadata": {},
   "outputs": [],
   "source": [
    "def blur_image(images, new_images):\n",
    "    for i in range(images.shape[0]):\n",
    "        im = np.reshape(images[i], (64,64))\n",
    "\n",
    "        #blurring the image\n",
    "        kernel = np.ones((5,5),np.float32)/25\n",
    "        img = cv2.filter2D(im,-1,kernel)\n",
    "        new_images[i] = np.reshape(img, 4096)"
   ]
  },
  {
   "cell_type": "code",
   "execution_count": null,
   "metadata": {},
   "outputs": [],
   "source": [
    "processed_x = np.zeros((bw_x.shape[0], bw_x.shape[1]))\n",
    "\n",
    "blur_image(bw_x, processed_x)"
   ]
  },
  {
   "cell_type": "markdown",
   "metadata": {},
   "source": [
    "## Preprocessing Pipeline"
   ]
  },
  {
   "cell_type": "markdown",
   "metadata": {},
   "source": [
    "Looking at the progression of preprocessing "
   ]
  },
  {
   "cell_type": "code",
   "execution_count": 35,
   "metadata": {},
   "outputs": [
    {
     "data": {
      "image/png": "[encoded data removed]",
      "text/plain": [
       "<matplotlib.figure.Figure at 0x7ff9dece8978>"
      ]
     },
     "metadata": {},
     "output_type": "display_data"
    }
   ],
   "source": [
    "plotter(original_x, y, 1100)"
   ]
  },
  {
   "cell_type": "code",
   "execution_count": 18,
   "metadata": {},
   "outputs": [
    {
     "data": {
      "image/png": "[encoded data removed]",
      "text/plain": [
       "<matplotlib.figure.Figure at 0x7ff9df296cf8>"
      ]
     },
     "metadata": {},
     "output_type": "display_data"
    }
   ],
   "source": [
    "plotter(x, y, 1100)"
   ]
  },
  {
   "cell_type": "code",
   "execution_count": 19,
   "metadata": {},
   "outputs": [
    {
     "data": {
      "image/png": "[encoded data removed]",
      "text/plain": [
       "<matplotlib.figure.Figure at 0x7ff9df2fe550>"
      ]
     },
     "metadata": {},
     "output_type": "display_data"
    }
   ],
   "source": [
    "plotter(new_x, y, 1100)"
   ]
  },
  {
   "cell_type": "code",
   "execution_count": 20,
   "metadata": {},
   "outputs": [
    {
     "data": {
      "image/png": "[encoded data removed]",
      "text/plain": [
       "<matplotlib.figure.Figure at 0x7ff9e08f9860>"
      ]
     },
     "metadata": {},
     "output_type": "display_data"
    }
   ],
   "source": [
    "plotter(bw_x, y, 1100)"
   ]
  },
  {
   "cell_type": "code",
   "execution_count": 26,
   "metadata": {},
   "outputs": [
    {
     "data": {
      "image/png": "[encoded data removed]",
      "text/plain": [
       "<matplotlib.figure.Figure at 0x7ff9d929c0b8>"
      ]
     },
     "metadata": {},
     "output_type": "display_data"
    }
   ],
   "source": [
    "plotter(processed_x, y, 1100)"
   ]
  },
  {
   "cell_type": "code",
   "execution_count": 30,
   "metadata": {},
   "outputs": [],
   "source": [
    "#saving fully preprocessed training file to a csv so that we never have to do all of that again\n",
    "\n",
    "df = pd.DataFrame(processed_x)\n",
    "df.to_csv(\"./data/processed_x.csv\", header = False, index = False)"
   ]
  },
  {
   "cell_type": "code",
   "execution_count": 38,
   "metadata": {},
   "outputs": [
    {
     "data": {
      "text/plain": [
       "'del(x)\\ndel(new_x)\\ndel(bw_x)\\ndel(processed_x)\\ndel(original_x)\\ngc.collect()'"
      ]
     },
     "execution_count": 38,
     "metadata": {},
     "output_type": "execute_result"
    }
   ],
   "source": [
    "'''del(x)\n",
    "del(new_x)\n",
    "del(bw_x)\n",
    "del(processed_x)\n",
    "del(original_x)\n",
    "gc.collect()'''"
   ]
  },
  {
   "cell_type": "markdown",
   "metadata": {},
   "source": [
    "# View final preprocessed data"
   ]
  },
  {
   "cell_type": "code",
   "execution_count": null,
   "metadata": {},
   "outputs": [],
   "source": [
    "x = pd.read_csv(\"./data/processed_x.csv\", delimiter=\",\", header = None) # load from processed images"
   ]
  },
  {
   "cell_type": "code",
   "execution_count": null,
   "metadata": {},
   "outputs": [],
   "source": [
    "x = x.values"
   ]
  },
  {
   "cell_type": "code",
   "execution_count": null,
   "metadata": {},
   "outputs": [],
   "source": [
    "y = pd.read_csv(\"./data/train_y.csv\", delimiter = \",\", header = None)\n",
    "y = (y.values).ravel()"
   ]
  },
  {
   "cell_type": "code",
   "execution_count": null,
   "metadata": {},
   "outputs": [],
   "source": [
    "x = x.astype(np.float32)\n",
    "x /= 255"
   ]
  },
  {
   "cell_type": "code",
   "execution_count": null,
   "metadata": {
    "scrolled": true
   },
   "outputs": [],
   "source": [
    "plotter(x, y, 0)"
   ]
  },
  {
   "cell_type": "markdown",
   "metadata": {},
   "source": [
    "### Augmentation - might not include"
   ]
  },
  {
   "cell_type": "code",
   "execution_count": null,
   "metadata": {},
   "outputs": [],
   "source": [
    "rotations = [-30, 30]\n",
    "\n",
    "new_y = np.zeros(3*y.shape[0])\n",
    "new_x = np.zeros((3*x.shape[0], x.shape[1]))\n",
    "\n",
    "y_pos = 0\n",
    "x_pos = 0\n",
    "\n",
    "for i in range(x.shape[0]):\n",
    "    im = np.reshape(x[i], (64,64))\n",
    "    \n",
    "    #blurring the image\n",
    "    kernel = np.ones((5,5),np.float32)/25\n",
    "    img = cv2.filter2D(im,-1,kernel)\n",
    "    \n",
    "    new_y[y_pos:y_pos+3] = y[i]\n",
    "    y_pos += 3\n",
    "    new_x[x_pos] = np.reshape(img, 4096)\n",
    "    x_pos += 1\n",
    "    \n",
    "    for degree in rotations:\n",
    "        rotated = ndimage.interpolation.rotate(im, degree, reshape=False, order=1, mode='nearest')\n",
    "        kernel = np.ones((5,5),np.float32)/25\n",
    "        rot = cv2.filter2D(rotated,-1,kernel)\n",
    "        rot = np.reshape(rot, 4096)\n",
    "        new_x[x_pos] = rot\n",
    "        x_pos += 1"
   ]
  },
  {
   "cell_type": "code",
   "execution_count": null,
   "metadata": {},
   "outputs": [],
   "source": [
    "plotter(new_x, new_y, 1540)"
   ]
  },
  {
   "cell_type": "code",
   "execution_count": null,
   "metadata": {},
   "outputs": [],
   "source": [
    "del(x)\n",
    "del(y)\n",
    "gc.collect()"
   ]
  },
  {
   "cell_type": "code",
   "execution_count": null,
   "metadata": {},
   "outputs": [],
   "source": [
    "x_df = pd.DataFrame(new_x)\n",
    "y_df = pd.DataFrame(new_y)"
   ]
  },
  {
   "cell_type": "code",
   "execution_count": null,
   "metadata": {
    "scrolled": true
   },
   "outputs": [],
   "source": [
    "x_df.to_csv(\"./data/augmented_x.csv\", header = False, index = False)"
   ]
  },
  {
   "cell_type": "code",
   "execution_count": null,
   "metadata": {},
   "outputs": [],
   "source": [
    "y_df.to_csv(\"./data/augmented_y.csv\", header = False, index = False)"
   ]
  },
  {
   "cell_type": "markdown",
   "metadata": {},
   "source": [
    "# Preprocessing Test Data"
   ]
  },
  {
   "cell_type": "code",
   "execution_count": 39,
   "metadata": {},
   "outputs": [],
   "source": [
    "test_x = pd.read_csv(\"./data/test_x.csv\", delimiter=\",\", header = None) # load from text "
   ]
  },
  {
   "cell_type": "code",
   "execution_count": 40,
   "metadata": {},
   "outputs": [],
   "source": [
    "#have to reformat from data frame \n",
    "\n",
    "test_x = test_x.values"
   ]
  },
  {
   "cell_type": "code",
   "execution_count": 41,
   "metadata": {},
   "outputs": [],
   "source": [
    "test_x = test_x.astype(np.float32)"
   ]
  },
  {
   "cell_type": "code",
   "execution_count": 43,
   "metadata": {},
   "outputs": [],
   "source": [
    "#visualizing a random 5 images\n",
    "indices = list(range(test_x.shape[0]))\n",
    "#plotter(test_x, indices, 0)"
   ]
  },
  {
   "cell_type": "code",
   "execution_count": 45,
   "metadata": {},
   "outputs": [],
   "source": [
    "#making the data black and white\n",
    "new_test_x = np.zeros((test_x.shape[0], test_x.shape[1]))\n",
    "for i in range(len(new_test_x)):\n",
    "    new_test_x[i] = list(array_map(binarize_element, test_x[i]))"
   ]
  },
  {
   "cell_type": "code",
   "execution_count": 47,
   "metadata": {},
   "outputs": [],
   "source": [
    "#plotter(new_test_x, indices, 0)"
   ]
  },
  {
   "cell_type": "code",
   "execution_count": 48,
   "metadata": {},
   "outputs": [],
   "source": [
    "#finding the largest digit in the test image\n",
    "digit_test_x = np.zeros((new_test_x.shape[0], new_test_x.shape[1]))\n",
    "find_largest_digit(new_test_x, digit_test_x)"
   ]
  },
  {
   "cell_type": "code",
   "execution_count": 59,
   "metadata": {},
   "outputs": [],
   "source": [
    "#plotter(digit_test_x, indices, 0)"
   ]
  },
  {
   "cell_type": "code",
   "execution_count": 51,
   "metadata": {},
   "outputs": [],
   "source": [
    "#inverting black and white in test image\n",
    "bw_test_x = np.zeros((digit_test_x.shape[0],digit_test_x.shape[1]))\n",
    "for i in range(len(bw_test_x)):\n",
    "    bw_test_x[i] = list(array_map(invert_element, digit_test_x[i]))"
   ]
  },
  {
   "cell_type": "code",
   "execution_count": 61,
   "metadata": {},
   "outputs": [],
   "source": [
    "#plotter(bw_test_x, indices, 0)"
   ]
  },
  {
   "cell_type": "code",
   "execution_count": 55,
   "metadata": {},
   "outputs": [],
   "source": [
    "#blurring the test image\n",
    "processed_test_x = np.zeros((bw_test_x.shape[0], bw_test_x.shape[1]))\n",
    "blur_image(bw_test_x, processed_test_x)"
   ]
  },
  {
   "cell_type": "code",
   "execution_count": 62,
   "metadata": {},
   "outputs": [],
   "source": [
    "#plotter(processed_test_x, indices, 0)"
   ]
  },
  {
   "cell_type": "code",
   "execution_count": 63,
   "metadata": {},
   "outputs": [],
   "source": [
    "df = pd.DataFrame(processed_test_x)"
   ]
  },
  {
   "cell_type": "code",
   "execution_count": 64,
   "metadata": {},
   "outputs": [],
   "source": [
    "df.to_csv(\"./data/processed_test_x.csv\", header = False, index = False)"
   ]
  }
 ],
 "metadata": {
  "kernelspec": {
   "display_name": "Python 3",
   "language": "python",
   "name": "python3"
  },
  "language_info": {
   "codemirror_mode": {
    "name": "ipython",
    "version": 3
   },
   "file_extension": ".py",
   "mimetype": "text/x-python",
   "name": "python",
   "nbconvert_exporter": "python",
   "pygments_lexer": "ipython3",
   "version": "3.5.2"
  }
 },
 "nbformat": 4,
 "nbformat_minor": 2
}
