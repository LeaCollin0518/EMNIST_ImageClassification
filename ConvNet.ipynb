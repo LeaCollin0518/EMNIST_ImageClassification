{
 "cells": [
  {
   "cell_type": "markdown",
   "metadata": {},
   "source": [
    "# Convolutional Neural Network, Keras"
   ]
  },
  {
   "cell_type": "code",
   "execution_count": 1,
   "metadata": {},
   "outputs": [
    {
     "name": "stderr",
     "output_type": "stream",
     "text": [
      "Using TensorFlow backend.\n"
     ]
    }
   ],
   "source": [
    "import numpy as np\n",
    "import matplotlib.pyplot as plt # to visualize only\n",
    "import pandas as pd\n",
    "from sklearn.model_selection import train_test_split\n",
    "\n",
    "import keras as ks\n",
    "from keras.models import Sequential\n",
    "from keras.layers import Dense, Dropout, Flatten\n",
    "from keras.layers import Conv2D, MaxPooling2D\n",
    "from keras.preprocessing.image import ImageDataGenerator, array_to_img, img_to_array, load_img\n",
    "from sklearn.preprocessing import LabelEncoder\n",
    "from keras.utils import to_categorical\n",
    "from keras import backend as K"
   ]
  },
  {
   "cell_type": "code",
   "execution_count": 2,
   "metadata": {},
   "outputs": [],
   "source": [
    "x = pd.read_csv(\"./data/processed_x.csv\", delimiter=\",\", header = None)\n",
    "x = x.values # dataframe to numpy ndarray\n",
    "x = x.astype(np.float32)\n",
    "x /= 255 # normalize"
   ]
  },
  {
   "cell_type": "code",
   "execution_count": 4,
   "metadata": {},
   "outputs": [],
   "source": [
    "y = pd.read_csv(\"./data/train_y.csv\", delimiter = \",\", header = None)\n",
    "y = (y.values).ravel()"
   ]
  },
  {
   "cell_type": "code",
   "execution_count": 5,
   "metadata": {
    "scrolled": true
   },
   "outputs": [
    {
     "data": {
      "image/png": "[encoded data removed]",
      "text/plain": [
       "<Figure size 1440x288 with 5 Axes>"
      ]
     },
     "metadata": {},
     "output_type": "display_data"
    }
   ],
   "source": [
    "# look at some data for sanity check\n",
    "def plotter(images, labels, start):\n",
    "    plt.figure(figsize=(20,4))\n",
    "    for index, (image, label) in enumerate(zip(images[start:start+5], labels[start:start+5])):\n",
    "        plt.subplot(1, 5, index + 1)\n",
    "        plt.imshow(np.reshape(image, (64,64)), cmap= 'gray')\n",
    "        plt.title('Training: %i\\n' % label, fontsize = 20)\n",
    "plotter(x, y, 0) # first 5 images"
   ]
  },
  {
   "cell_type": "code",
   "execution_count": 6,
   "metadata": {},
   "outputs": [],
   "source": [
    "# split it on up\n",
    "np.random.seed(100) # for determinism\n",
    "x_train, x_valid, y_train, y_valid = train_test_split(\n",
    "    x, y, test_size=1/10.0, random_state=0)"
   ]
  },
  {
   "cell_type": "code",
   "execution_count": 7,
   "metadata": {},
   "outputs": [],
   "source": [
    "# set up conv net\n",
    "batch_size = 128\n",
    "epochs = 15\n",
    "\n",
    "num_classes = 10\n",
    "img_rows, img_cols, = 64, 64\n",
    "\n",
    "if K.image_data_format() == 'channels_first':\n",
    "    x_train = x_train.reshape(x_train.shape[0], 1, img_rows, img_cols)\n",
    "    x_valid = x_valid.reshape(x_valid.shape[0], 1, img_rows, img_cols)\n",
    "    input_shape = (1, img_rows, img_cols)\n",
    "else:\n",
    "    x_train = x_train.reshape(x_train.shape[0], img_rows, img_cols, 1)\n",
    "    x_valid = x_valid.reshape(x_valid.shape[0], img_rows, img_cols, 1)\n",
    "    input_shape = (img_rows, img_cols, 1)\n",
    "    \n",
    "#y_train = ks.utils.to_categorical(y_train, num_classes)\n",
    "#y_valid = ks.utils.to_categorical(y_valid, num_classes)"
   ]
  },
  {
   "cell_type": "code",
   "execution_count": 8,
   "metadata": {},
   "outputs": [
    {
     "name": "stdout",
     "output_type": "stream",
     "text": [
      "(45000, 64, 64, 1)\n",
      "(5000, 64, 64, 1)\n",
      "(45000,)\n",
      "(5000,)\n"
     ]
    }
   ],
   "source": [
    "# sanity check that all the shapes of the data are correct\n",
    "print(x_train.shape)\n",
    "print(x_valid.shape)\n",
    "print(y_train.shape)\n",
    "print(y_valid.shape)"
   ]
  },
  {
   "cell_type": "code",
   "execution_count": 13,
   "metadata": {},
   "outputs": [],
   "source": [
    "# construct the image generator for data augmentation\n",
    "img_data_gen = ImageDataGenerator(\n",
    "            featurewise_center=False,  # set input mean to 0 over the dataset\n",
    "            samplewise_center=False,  # set each sample mean to 0\n",
    "            featurewise_std_normalization=False,  # divide inputs by std of the dataset\n",
    "            samplewise_std_normalization=False,  # divide each input by its std\n",
    "            zca_whitening=False,  # apply ZCA whitening\n",
    "            rotation_range=12,  # randomly rotate images in the range 0 - 20 degrees\n",
    "            horizontal_flip=False,  # don't flip images\n",
    "            vertical_flip=False)"
   ]
  },
  {
   "cell_type": "code",
   "execution_count": 14,
   "metadata": {},
   "outputs": [],
   "source": [
    "img_data_gen.fit(x_train)"
   ]
  },
  {
   "cell_type": "code",
   "execution_count": 15,
   "metadata": {},
   "outputs": [],
   "source": [
    "# train an encoder to convert labels to integer labels, one-hot encodings, and back\n",
    "encoder = LabelEncoder().fit(y.reshape((y.shape[0],)))\n",
    "\n",
    "def encode_onehot(lab):\n",
    "    return to_categorical(encoder.transform(lab))\n",
    "\n",
    "def decode_onehot(lab):\n",
    "    return encoder.inverse_transform(np.argmax(lab, axis = 1))"
   ]
  },
  {
   "cell_type": "code",
   "execution_count": 24,
   "metadata": {},
   "outputs": [],
   "source": [
    "# ew magic numbers\n",
    "model = Sequential()\n",
    "# changing from (3,3) to (2,2)\n",
    "model.add(Conv2D(32, kernel_size=(3, 3),\n",
    "                 activation='relu',\n",
    "                 input_shape=input_shape))\n",
    "model.add(Conv2D(64, (3, 3), activation='relu'))\n",
    "model.add(MaxPooling2D(pool_size=(2, 2)))\n",
    "model.add(Dropout(0.25))\n",
    "model.add(Flatten())\n",
    "model.add(Dense(128, activation='relu'))\n",
    "model.add(Dropout(0.5))\n",
    "model.add(Dense(num_classes, activation='softmax'))\n",
    "\n",
    "model.compile(loss=ks.losses.categorical_crossentropy,\n",
    "              optimizer=ks.optimizers.Adadelta(),\n",
    "              metrics=['accuracy'])"
   ]
  },
  {
   "cell_type": "code",
   "execution_count": 25,
   "metadata": {},
   "outputs": [
    {
     "name": "stdout",
     "output_type": "stream",
     "text": [
      "Train on 45000 samples, validate on 5000 samples\n",
      "Epoch 1/15\n",
      "45000/45000 [==============================] - 17s 367us/step - loss: 1.2500 - acc: 0.5911 - val_loss: 0.5196 - val_acc: 0.8498\n",
      "Epoch 2/15\n",
      "45000/45000 [==============================] - 16s 348us/step - loss: 0.6197 - acc: 0.8265 - val_loss: 0.3772 - val_acc: 0.9008\n",
      "Epoch 3/15\n",
      "45000/45000 [==============================] - 16s 346us/step - loss: 0.4893 - acc: 0.8694 - val_loss: 0.3372 - val_acc: 0.9114\n",
      "Epoch 4/15\n",
      "45000/45000 [==============================] - 16s 345us/step - loss: 0.4274 - acc: 0.8871 - val_loss: 0.3189 - val_acc: 0.9186\n",
      "Epoch 5/15\n",
      "45000/45000 [==============================] - 16s 345us/step - loss: 0.3907 - acc: 0.8968 - val_loss: 0.3242 - val_acc: 0.9158\n",
      "Epoch 6/15\n",
      "45000/45000 [==============================] - 16s 345us/step - loss: 0.3640 - acc: 0.9044 - val_loss: 0.2937 - val_acc: 0.9222\n",
      "Epoch 7/15\n",
      "45000/45000 [==============================] - 16s 346us/step - loss: 0.3426 - acc: 0.9113 - val_loss: 0.2872 - val_acc: 0.9296\n",
      "Epoch 8/15\n",
      "45000/45000 [==============================] - 16s 346us/step - loss: 0.3226 - acc: 0.9156 - val_loss: 0.2939 - val_acc: 0.9244\n",
      "Epoch 9/15\n",
      "45000/45000 [==============================] - 16s 346us/step - loss: 0.3082 - acc: 0.9202 - val_loss: 0.2777 - val_acc: 0.9292\n",
      "Epoch 10/15\n",
      "45000/45000 [==============================] - 16s 346us/step - loss: 0.2948 - acc: 0.9234 - val_loss: 0.2795 - val_acc: 0.9268\n",
      "Epoch 11/15\n",
      "45000/45000 [==============================] - 16s 346us/step - loss: 0.2836 - acc: 0.9263 - val_loss: 0.2746 - val_acc: 0.9322\n",
      "Epoch 12/15\n",
      "45000/45000 [==============================] - 16s 346us/step - loss: 0.2676 - acc: 0.9299 - val_loss: 0.2986 - val_acc: 0.9284\n",
      "Epoch 13/15\n",
      "45000/45000 [==============================] - 16s 346us/step - loss: 0.2615 - acc: 0.9326 - val_loss: 0.2809 - val_acc: 0.9360\n",
      "Epoch 14/15\n",
      "45000/45000 [==============================] - 16s 346us/step - loss: 0.2518 - acc: 0.9344 - val_loss: 0.2739 - val_acc: 0.9314\n",
      "Epoch 15/15\n",
      "45000/45000 [==============================] - 16s 346us/step - loss: 0.2407 - acc: 0.9368 - val_loss: 0.2846 - val_acc: 0.9272\n"
     ]
    },
    {
     "data": {
      "text/plain": [
       "<keras.callbacks.History at 0x7fb3b1e41e48>"
      ]
     },
     "execution_count": 25,
     "metadata": {},
     "output_type": "execute_result"
    }
   ],
   "source": [
    "# go, go, go! go, go speed racer!\n",
    "model.fit(x_train, encode_onehot(y_train),\n",
    "          batch_size=batch_size,\n",
    "          epochs=epochs,\n",
    "          verbose=1,\n",
    "          validation_data=(x_valid, encode_onehot(y_valid)))\n",
    "\n",
    "\n",
    "# model.fit_generator(img_data_gen.flow(x_train, encode_onehot(y_train), batch_size=15),\n",
    "#         validation_data=(x_valid, encode_onehot(y_valid)), steps_per_epoch=int(len(x_train)/20),\n",
    "#         epochs=epochs, verbose=1)"
   ]
  },
  {
   "cell_type": "code",
   "execution_count": 12,
   "metadata": {},
   "outputs": [
    {
     "name": "stdout",
     "output_type": "stream",
     "text": [
      "Test loss: 0.2546268650650978\n",
      "Test accuracy: 0.9364\n"
     ]
    }
   ],
   "source": [
    "score = model.evaluate(x_valid, encode_onehot(y_valid), verbose=0)\n",
    "print('Test loss:', score[0])\n",
    "print('Test accuracy:', score[1])"
   ]
  },
  {
   "cell_type": "code",
   "execution_count": 13,
   "metadata": {},
   "outputs": [],
   "source": [
    "# testing, 1, 2, testing....\n",
    "x_test = pd.read_csv(\"./data/processed_test_x.csv\", delimiter=\",\", header = None)\n",
    "x_test = x_test.values\n",
    "x_test = x_test.astype(np.float32)\n",
    "x_test /= 255\n",
    "if K.image_data_format() == 'channels_first':\n",
    "    x_test = x_test.reshape(x_test.shape[0], 1, img_rows, img_cols)\n",
    "else:\n",
    "    x_test = x_test.reshape(x_test.shape[0], img_rows, img_cols, 1)"
   ]
  },
  {
   "cell_type": "code",
   "execution_count": 14,
   "metadata": {},
   "outputs": [
    {
     "name": "stdout",
     "output_type": "stream",
     "text": [
      "[7 2 0 7 6 1 5 3 8 1 5 1 9 1 0 2 3 0 0 3 3 0 6 1 6 0 2 8 2 0 2 8 9 1 8 6 0\n",
      " 1 0 4 0 7 1 1 0 2 3 6 8 4 9 7 3 9 8 2 2 6 5 9 9 9 3 3 8 8 3 8 9 5 2 4 9 4\n",
      " 8 5 1 8 1 4 9 4 6 8 3 8 1 9 1 6 3 9 0 2 9 3 9 7 2 4]\n"
     ]
    }
   ],
   "source": [
    "predictions = model.predict_classes(x_test)\n",
    "ids = list(range(len(predictions)))\n",
    "\n",
    "print(predictions[:100])\n",
    "output = pd.DataFrame({'Id': ids, 'Label': predictions})\n",
    "output.to_csv(\"./data/ConvNetPredictions.csv\", header = True, index = False)"
   ]
  },
  {
   "cell_type": "code",
   "execution_count": 18,
   "metadata": {},
   "outputs": [
    {
     "data": {
      "image/png": "[encoded data removed]",
      "text/plain": [
       "<Figure size 1440x288 with 5 Axes>"
      ]
     },
     "metadata": {},
     "output_type": "display_data"
    }
   ],
   "source": [
    "plotter(x_test, ids, 10)"
   ]
  }
 ],
 "metadata": {
  "kernelspec": {
   "display_name": "Python 3",
   "language": "python",
   "name": "python3"
  },
  "language_info": {
   "codemirror_mode": {
    "name": "ipython",
    "version": 3
   },
   "file_extension": ".py",
   "mimetype": "text/x-python",
   "name": "python",
   "nbconvert_exporter": "python",
   "pygments_lexer": "ipython3",
   "version": "3.5.2"
  }
 },
 "nbformat": 4,
 "nbformat_minor": 2
}
