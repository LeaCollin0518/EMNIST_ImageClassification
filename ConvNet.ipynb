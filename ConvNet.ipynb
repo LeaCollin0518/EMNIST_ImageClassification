{
 "cells": [
  {
   "cell_type": "markdown",
   "metadata": {},
   "source": [
    "# Convolutional Neural Network, Keras"
   ]
  },
  {
   "cell_type": "code",
   "execution_count": 14,
   "metadata": {},
   "outputs": [],
   "source": [
    "import numpy as np\n",
    "import matplotlib.pyplot as plt # to visualize only\n",
    "import pandas as pd\n",
    "from sklearn.model_selection import train_test_split\n",
    "\n",
    "import keras as ks\n",
    "from keras.models import Sequential\n",
    "from keras.layers import Dense, Dropout, Flatten\n",
    "from keras.layers import Conv2D, MaxPooling2D\n",
    "from keras import backend as K"
   ]
  },
  {
   "cell_type": "code",
   "execution_count": 15,
   "metadata": {},
   "outputs": [],
   "source": [
    "x = pd.read_csv(\"./data/processed_x.csv\", delimiter=\",\", header = None)\n",
    "x = x.values # dataframe to numpy ndarray\n",
    "x = x.astype(np.float32)\n",
    "x /= 255 # normalize"
   ]
  },
  {
   "cell_type": "code",
   "execution_count": 16,
   "metadata": {},
   "outputs": [],
   "source": [
    "y = pd.read_csv(\"./data/train_y.csv\", delimiter = \",\", header = None)\n",
    "y = (y.values).ravel()"
   ]
  },
  {
   "cell_type": "code",
   "execution_count": 17,
   "metadata": {
    "scrolled": true
   },
   "outputs": [
    {
     "data": {
      "image/png": "[encoded data removed]",
      "text/plain": [
       "<Figure size 1440x288 with 5 Axes>"
      ]
     },
     "metadata": {},
     "output_type": "display_data"
    }
   ],
   "source": [
    "# look at some data for sanity check\n",
    "def plotter(images, labels, start):\n",
    "    plt.figure(figsize=(20,4))\n",
    "    for index, (image, label) in enumerate(zip(images[start:start+5], labels[start:start+5])):\n",
    "        plt.subplot(1, 5, index + 1)\n",
    "        plt.imshow(np.reshape(image, (64,64)), cmap= 'gray')\n",
    "        plt.title('Training: %i\\n' % label, fontsize = 20)\n",
    "plotter(x, y, 0) # first 5 images"
   ]
  },
  {
   "cell_type": "code",
   "execution_count": 48,
   "metadata": {},
   "outputs": [],
   "source": [
    "# split it on up\n",
    "np.random.seed(100) # for determinism\n",
    "x_train, x_valid, y_train, y_valid = train_test_split(\n",
    "    x, y, test_size=1/10.0, random_state=0)"
   ]
  },
  {
   "cell_type": "code",
   "execution_count": 49,
   "metadata": {},
   "outputs": [],
   "source": [
    "# set up conv net\n",
    "batch_size = 128\n",
    "epochs = 12\n",
    "\n",
    "num_classes = 10\n",
    "img_rows, img_cols, = 64, 64\n",
    "\n",
    "if K.image_data_format() == 'channels_first':\n",
    "    x_train = x_train.reshape(x_train.shape[0], 1, img_rows, img_cols)\n",
    "    x_valid = x_valid.reshape(x_valid.shape[0], 1, img_rows, img_cols)\n",
    "    input_shape = (1, img_rows, img_cols)\n",
    "else:\n",
    "    x_train = x_train.reshape(x_train.shape[0], img_rows, img_cols, 1)\n",
    "    x_valid = x_valid.reshape(x_valid.shape[0], img_rows, img_cols, 1)\n",
    "    input_shape = (img_rows, img_cols, 1)\n",
    "    \n",
    "y_train = ks.utils.to_categorical(y_train, num_classes)\n",
    "y_valid = ks.utils.to_categorical(y_valid, num_classes)"
   ]
  },
  {
   "cell_type": "code",
   "execution_count": 50,
   "metadata": {},
   "outputs": [
    {
     "name": "stdout",
     "output_type": "stream",
     "text": [
      "(45000, 64, 64, 1)\n",
      "(5000, 64, 64, 1)\n",
      "(45000, 10)\n",
      "(5000, 10)\n"
     ]
    }
   ],
   "source": [
    "print(x_train.shape)\n",
    "print(x_valid.shape)\n",
    "print(y_train.shape)\n",
    "print(y_valid.shape)"
   ]
  },
  {
   "cell_type": "code",
   "execution_count": 53,
   "metadata": {},
   "outputs": [],
   "source": [
    "# ew magic numbers\n",
    "model = Sequential()\n",
    "model.add(Conv2D(32, kernel_size=(3, 3),\n",
    "                 activation='relu',\n",
    "                 input_shape=input_shape))\n",
    "model.add(Conv2D(64, (3, 3), activation='relu'))\n",
    "model.add(MaxPooling2D(pool_size=(2, 2)))\n",
    "model.add(Dropout(0.25))\n",
    "model.add(Flatten())\n",
    "model.add(Dense(128, activation='relu'))\n",
    "model.add(Dropout(0.5))\n",
    "model.add(Dense(num_classes, activation='softmax'))\n",
    "\n",
    "model.compile(loss=ks.losses.categorical_crossentropy,\n",
    "              optimizer=ks.optimizers.Adadelta(),\n",
    "              metrics=['accuracy'])"
   ]
  },
  {
   "cell_type": "code",
   "execution_count": 55,
   "metadata": {},
   "outputs": [
    {
     "name": "stdout",
     "output_type": "stream",
     "text": [
      "Train on 45000 samples, validate on 5000 samples\n",
      "Epoch 1/12\n",
      "45000/45000 [==============================] - 17s 386us/step - loss: 1.1891 - acc: 0.6101 - val_loss: 0.5959 - val_acc: 0.8272\n",
      "Epoch 2/12\n",
      "45000/45000 [==============================] - 16s 353us/step - loss: 0.7321 - acc: 0.7816 - val_loss: 0.4297 - val_acc: 0.8788\n",
      "Epoch 3/12\n",
      "45000/45000 [==============================] - 16s 353us/step - loss: 0.5759 - acc: 0.8372 - val_loss: 0.3809 - val_acc: 0.8976\n",
      "Epoch 4/12\n",
      "45000/45000 [==============================] - 16s 354us/step - loss: 0.5078 - acc: 0.8581 - val_loss: 0.3726 - val_acc: 0.9000\n",
      "Epoch 5/12\n",
      "45000/45000 [==============================] - 16s 348us/step - loss: 0.4599 - acc: 0.8736 - val_loss: 0.3432 - val_acc: 0.9070\n",
      "Epoch 6/12\n",
      "45000/45000 [==============================] - 16s 348us/step - loss: 0.4268 - acc: 0.8833 - val_loss: 0.3449 - val_acc: 0.9104\n",
      "Epoch 7/12\n",
      "45000/45000 [==============================] - 16s 348us/step - loss: 0.3982 - acc: 0.8922 - val_loss: 0.3348 - val_acc: 0.9154\n",
      "Epoch 8/12\n",
      "45000/45000 [==============================] - 16s 348us/step - loss: 0.3798 - acc: 0.8969 - val_loss: 0.3172 - val_acc: 0.9172\n",
      "Epoch 9/12\n",
      "45000/45000 [==============================] - 16s 348us/step - loss: 0.3563 - acc: 0.9025 - val_loss: 0.3119 - val_acc: 0.9146\n",
      "Epoch 10/12\n",
      "45000/45000 [==============================] - 16s 348us/step - loss: 0.3367 - acc: 0.9071 - val_loss: 0.3348 - val_acc: 0.9134\n",
      "Epoch 11/12\n",
      "45000/45000 [==============================] - 16s 349us/step - loss: 0.3241 - acc: 0.9087 - val_loss: 0.3309 - val_acc: 0.9200\n",
      "Epoch 12/12\n",
      "45000/45000 [==============================] - 16s 349us/step - loss: 0.3128 - acc: 0.9142 - val_loss: 0.3104 - val_acc: 0.9200\n"
     ]
    },
    {
     "data": {
      "text/plain": [
       "<keras.callbacks.History at 0x7f0fa0240cc0>"
      ]
     },
     "execution_count": 55,
     "metadata": {},
     "output_type": "execute_result"
    }
   ],
   "source": [
    "# go, go, go! go, go speed racer!\n",
    "model.fit(x_train, y_train,\n",
    "          batch_size=batch_size,\n",
    "          epochs=epochs,\n",
    "          verbose=1,\n",
    "          validation_data=(x_valid, y_valid))"
   ]
  },
  {
   "cell_type": "code",
   "execution_count": 56,
   "metadata": {},
   "outputs": [
    {
     "name": "stdout",
     "output_type": "stream",
     "text": [
      "Test loss: 0.31038641164302827\n",
      "Test accuracy: 0.92\n"
     ]
    }
   ],
   "source": [
    "score = model.evaluate(x_valid, y_valid, verbose=0)\n",
    "print('Test loss:', score[0])\n",
    "print('Test accuracy:', score[1])"
   ]
  },
  {
   "cell_type": "code",
   "execution_count": 64,
   "metadata": {},
   "outputs": [],
   "source": [
    "# testing, 1, 2, testing....\n",
    "x_test = pd.read_csv(\"./data/processed_test_x.csv\", delimiter=\",\", header = None)\n",
    "x_test = x_test.values\n",
    "x_test = x_test.astype(np.float32)\n",
    "x_test /= 255\n",
    "if K.image_data_format() == 'channels_first':\n",
    "    x_test = x_test.reshape(x_test.shape[0], 1, img_rows, img_cols)\n",
    "else:\n",
    "    x_test = x_test.reshape(x_test.shape[0], img_rows, img_cols, 1)"
   ]
  },
  {
   "cell_type": "code",
   "execution_count": 65,
   "metadata": {},
   "outputs": [
    {
     "name": "stdout",
     "output_type": "stream",
     "text": [
      "[7 2 0 7 6 1 5 3 8 1 5 2 9 1 0 2 3 0 0 3 3 0 6 1 1 0 2 8 3 0 2 8 9 8 8 6 0\n",
      " 1 3 4 0 7 1 1 0 2 3 6 8 4 9 7 3 9 8 2 2 6 5 9 9 9 3 3 8 8 3 1 4 5 2 4 9 4\n",
      " 8 3 1 8 1 4 9 4 6 8 3 8 1 7 1 6 3 9 0 2 9 3 9 7 2 4]\n"
     ]
    }
   ],
   "source": [
    "predictions = model.predict_classes(x_test)\n",
    "ids = list(range(len(predictions)))\n",
    "\n",
    "print(predictions[:100])\n",
    "output = pd.DataFrame({'Id': ids, 'Label': predictions})\n",
    "output.to_csv(\"./data/ConvNetPredictions.csv\", header = True, index = False)"
   ]
  }
 ],
 "metadata": {
  "kernelspec": {
   "display_name": "Python 3",
   "language": "python",
   "name": "python3"
  },
  "language_info": {
   "codemirror_mode": {
    "name": "ipython",
    "version": 3
   },
   "file_extension": ".py",
   "mimetype": "text/x-python",
   "name": "python",
   "nbconvert_exporter": "python",
   "pygments_lexer": "ipython3",
   "version": "3.5.2"
  }
 },
 "nbformat": 4,
 "nbformat_minor": 2
}
