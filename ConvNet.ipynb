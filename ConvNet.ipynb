{
 "cells": [
  {
   "cell_type": "markdown",
   "metadata": {},
   "source": [
    "# Convolutional Neural Network, Keras"
   ]
  },
  {
   "cell_type": "code",
   "execution_count": 12,
   "metadata": {},
   "outputs": [],
   "source": [
    "import numpy as np\n",
    "import matplotlib.pyplot as plt # to visualize only\n",
    "import pandas as pd\n",
    "from sklearn.model_selection import train_test_split\n",
    "\n",
    "import keras as ks\n",
    "from keras.models import Sequential\n",
    "from keras.layers import Dense, Dropout, Flatten\n",
    "from keras.layers import Conv2D, MaxPooling2D\n",
    "from keras import backend as K"
   ]
  },
  {
   "cell_type": "code",
   "execution_count": 13,
   "metadata": {},
   "outputs": [],
   "source": [
    "x = pd.read_csv(\"./data/processed_x.csv\", delimiter=\",\", header = None)\n",
    "x = x.values # dataframe to numpy ndarray\n",
    "x = x.astype(np.float32)\n",
    "x /= 255 # normalize"
   ]
  },
  {
   "cell_type": "code",
   "execution_count": 15,
   "metadata": {},
   "outputs": [],
   "source": [
    "y = pd.read_csv(\"./data/train_y.csv\", delimiter = \",\", header = None)\n",
    "y = (y.values).ravel()"
   ]
  },
  {
   "cell_type": "code",
   "execution_count": 16,
   "metadata": {
    "scrolled": true
   },
   "outputs": [
    {
     "data": {
      "image/png": "[encoded data removed]",
      "text/plain": [
       "<Figure size 1440x288 with 5 Axes>"
      ]
     },
     "metadata": {},
     "output_type": "display_data"
    }
   ],
   "source": [
    "# look at some data for sanity check\n",
    "def plotter(images, labels, start):\n",
    "    plt.figure(figsize=(20,4))\n",
    "    for index, (image, label) in enumerate(zip(images[start:start+5], labels[start:start+5])):\n",
    "        plt.subplot(1, 5, index + 1)\n",
    "        plt.imshow(np.reshape(image, (64,64)), cmap= 'gray')\n",
    "        plt.title('Training: %i\\n' % label, fontsize = 20)\n",
    "plotter(x, y, 0) # first 5 images"
   ]
  },
  {
   "cell_type": "code",
   "execution_count": null,
   "metadata": {},
   "outputs": [],
   "source": [
    "print(x[0, (64*9):(64*10)])"
   ]
  },
  {
   "cell_type": "code",
   "execution_count": 17,
   "metadata": {},
   "outputs": [],
   "source": [
    "# split it on up\n",
    "np.random.seed(100) # for determinism\n",
    "x_train, x_valid, y_train, y_valid = train_test_split(\n",
    "    x, y, test_size=1/10.0, random_state=0)"
   ]
  },
  {
   "cell_type": "code",
   "execution_count": 18,
   "metadata": {},
   "outputs": [],
   "source": [
    "# set up conv net\n",
    "batch_size = 128\n",
    "epochs = 15\n",
    "\n",
    "num_classes = 10\n",
    "img_rows, img_cols, = 64, 64\n",
    "\n",
    "if K.image_data_format() == 'channels_first':\n",
    "    x_train = x_train.reshape(x_train.shape[0], 1, img_rows, img_cols)\n",
    "    x_valid = x_valid.reshape(x_valid.shape[0], 1, img_rows, img_cols)\n",
    "    input_shape = (1, img_rows, img_cols)\n",
    "else:\n",
    "    x_train = x_train.reshape(x_train.shape[0], img_rows, img_cols, 1)\n",
    "    x_valid = x_valid.reshape(x_valid.shape[0], img_rows, img_cols, 1)\n",
    "    input_shape = (img_rows, img_cols, 1)\n",
    "    \n",
    "y_train = ks.utils.to_categorical(y_train, num_classes)\n",
    "y_valid = ks.utils.to_categorical(y_valid, num_classes)"
   ]
  },
  {
   "cell_type": "code",
   "execution_count": 9,
   "metadata": {},
   "outputs": [
    {
     "name": "stdout",
     "output_type": "stream",
     "text": [
      "(135000, 64, 64, 1)\n",
      "(15000, 64, 64, 1)\n",
      "(135000, 10)\n",
      "(15000, 10)\n"
     ]
    }
   ],
   "source": [
    "print(x_train.shape)\n",
    "print(x_valid.shape)\n",
    "print(y_train.shape)\n",
    "print(y_valid.shape)"
   ]
  },
  {
   "cell_type": "code",
   "execution_count": 19,
   "metadata": {},
   "outputs": [],
   "source": [
    "# ew magic numbers\n",
    "model = Sequential()\n",
    "model.add(Conv2D(32, kernel_size=(3, 3),\n",
    "                 activation='relu',\n",
    "                 input_shape=input_shape))\n",
    "model.add(Conv2D(64, (3, 3), activation='relu'))\n",
    "model.add(MaxPooling2D(pool_size=(2, 2)))\n",
    "model.add(Dropout(0.25))\n",
    "model.add(Flatten())\n",
    "model.add(Dense(128, activation='relu'))\n",
    "model.add(Dropout(0.5))\n",
    "model.add(Dense(num_classes, activation='softmax'))\n",
    "\n",
    "model.compile(loss=ks.losses.categorical_crossentropy,\n",
    "              optimizer=ks.optimizers.Adadelta(),\n",
    "              metrics=['accuracy'])"
   ]
  },
  {
   "cell_type": "code",
   "execution_count": 20,
   "metadata": {},
   "outputs": [
    {
     "name": "stdout",
     "output_type": "stream",
     "text": [
      "Train on 45000 samples, validate on 5000 samples\n",
      "Epoch 1/15\n",
      "45000/45000 [==============================] - 16s 348us/step - loss: 1.0801 - acc: 0.6544 - val_loss: 0.5084 - val_acc: 0.8506\n",
      "Epoch 2/15\n",
      "45000/45000 [==============================] - 15s 341us/step - loss: 0.6148 - acc: 0.8239 - val_loss: 0.4170 - val_acc: 0.8816\n",
      "Epoch 3/15\n",
      "45000/45000 [==============================] - 15s 339us/step - loss: 0.4936 - acc: 0.8630 - val_loss: 0.3695 - val_acc: 0.8936\n",
      "Epoch 4/15\n",
      "45000/45000 [==============================] - 15s 339us/step - loss: 0.4411 - acc: 0.8802 - val_loss: 0.3560 - val_acc: 0.9038\n",
      "Epoch 5/15\n",
      "45000/45000 [==============================] - 15s 339us/step - loss: 0.4010 - acc: 0.8915 - val_loss: 0.3347 - val_acc: 0.9124\n",
      "Epoch 6/15\n",
      "45000/45000 [==============================] - 15s 339us/step - loss: 0.3718 - acc: 0.8992 - val_loss: 0.3330 - val_acc: 0.9134\n",
      "Epoch 7/15\n",
      "45000/45000 [==============================] - 15s 340us/step - loss: 0.3490 - acc: 0.9065 - val_loss: 0.3242 - val_acc: 0.9136\n",
      "Epoch 8/15\n",
      "45000/45000 [==============================] - 15s 340us/step - loss: 0.3324 - acc: 0.9086 - val_loss: 0.3273 - val_acc: 0.9122\n",
      "Epoch 9/15\n",
      "45000/45000 [==============================] - 15s 341us/step - loss: 0.3168 - acc: 0.9124 - val_loss: 0.3116 - val_acc: 0.9174\n",
      "Epoch 10/15\n",
      "45000/45000 [==============================] - 15s 339us/step - loss: 0.3023 - acc: 0.9158 - val_loss: 0.3139 - val_acc: 0.9170\n",
      "Epoch 11/15\n",
      "45000/45000 [==============================] - 15s 339us/step - loss: 0.2883 - acc: 0.9212 - val_loss: 0.3291 - val_acc: 0.9208\n",
      "Epoch 12/15\n",
      "45000/45000 [==============================] - 15s 339us/step - loss: 0.2767 - acc: 0.9236 - val_loss: 0.3398 - val_acc: 0.9186\n",
      "Epoch 13/15\n",
      "45000/45000 [==============================] - 15s 339us/step - loss: 0.2693 - acc: 0.9244 - val_loss: 0.3434 - val_acc: 0.9196\n",
      "Epoch 14/15\n",
      "45000/45000 [==============================] - 15s 339us/step - loss: 0.2603 - acc: 0.9274 - val_loss: 0.3189 - val_acc: 0.9192\n",
      "Epoch 15/15\n",
      "45000/45000 [==============================] - 15s 339us/step - loss: 0.2511 - acc: 0.9288 - val_loss: 0.3314 - val_acc: 0.9144\n"
     ]
    },
    {
     "data": {
      "text/plain": [
       "<keras.callbacks.History at 0x7fd29b5d4c18>"
      ]
     },
     "execution_count": 20,
     "metadata": {},
     "output_type": "execute_result"
    }
   ],
   "source": [
    "# go, go, go! go, go speed racer!\n",
    "model.fit(x_train, y_train,\n",
    "          batch_size=batch_size,\n",
    "          epochs=epochs,\n",
    "          verbose=1,\n",
    "          validation_data=(x_valid, y_valid))"
   ]
  },
  {
   "cell_type": "code",
   "execution_count": 21,
   "metadata": {},
   "outputs": [
    {
     "name": "stdout",
     "output_type": "stream",
     "text": [
      "Test loss: 0.3313806868553162\n",
      "Test accuracy: 0.9144\n"
     ]
    }
   ],
   "source": [
    "score = model.evaluate(x_valid, y_valid, verbose=0)\n",
    "print('Test loss:', score[0])\n",
    "print('Test accuracy:', score[1])"
   ]
  },
  {
   "cell_type": "code",
   "execution_count": null,
   "metadata": {},
   "outputs": [],
   "source": [
    "# testing, 1, 2, testing....\n",
    "x_test = pd.read_csv(\"./data/processed_test_x.csv\", delimiter=\",\", header = None)\n",
    "x_test = x_test.values\n",
    "x_test = x_test.astype(np.float32)\n",
    "x_test /= 255\n",
    "if K.image_data_format() == 'channels_first':\n",
    "    x_test = x_test.reshape(x_test.shape[0], 1, img_rows, img_cols)\n",
    "else:\n",
    "    x_test = x_test.reshape(x_test.shape[0], img_rows, img_cols, 1)"
   ]
  },
  {
   "cell_type": "code",
   "execution_count": null,
   "metadata": {},
   "outputs": [],
   "source": [
    "predictions = model.predict_classes(x_test)\n",
    "ids = list(range(len(predictions)))\n",
    "\n",
    "print(predictions[:100])\n",
    "output = pd.DataFrame({'Id': ids, 'Label': predictions})\n",
    "output.to_csv(\"./data/ConvNetPredictions.csv\", header = True, index = False)"
   ]
  }
 ],
 "metadata": {
  "kernelspec": {
   "display_name": "Python 3",
   "language": "python",
   "name": "python3"
  },
  "language_info": {
   "codemirror_mode": {
    "name": "ipython",
    "version": 3
   },
   "file_extension": ".py",
   "mimetype": "text/x-python",
   "name": "python",
   "nbconvert_exporter": "python",
   "pygments_lexer": "ipython3",
   "version": "3.5.2"
  }
 },
 "nbformat": 4,
 "nbformat_minor": 2
}
