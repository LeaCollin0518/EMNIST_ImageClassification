{
 "cells": [
  {
   "cell_type": "markdown",
   "metadata": {},
   "source": [
    "# Convolutional Neural Network, Keras"
   ]
  },
  {
   "cell_type": "code",
   "execution_count": 20,
   "metadata": {},
   "outputs": [],
   "source": [
    "import numpy as np\n",
    "import matplotlib.pyplot as plt # to visualize only\n",
    "import pandas as pd\n",
    "from sklearn.model_selection import train_test_split\n",
    "\n",
    "import keras as ks\n",
    "from keras.models import Sequential\n",
    "from keras.layers import Dense, Dropout, Flatten, Activation, BatchNormalization\n",
    "from keras.layers import Conv2D, MaxPooling2D\n",
    "from keras.preprocessing.image import ImageDataGenerator, array_to_img, img_to_array, load_img\n",
    "from sklearn.preprocessing import LabelEncoder\n",
    "from keras.utils import to_categorical\n",
    "from keras import backend as K"
   ]
  },
  {
   "cell_type": "code",
   "execution_count": 3,
   "metadata": {},
   "outputs": [],
   "source": [
    "x = pd.read_csv(\"./data/processed_x.csv\", delimiter=\",\", header = None)\n",
    "x = x.values # dataframe to numpy ndarray\n",
    "x = x.astype(np.float32)\n",
    "x /= 255 # normalize"
   ]
  },
  {
   "cell_type": "code",
   "execution_count": 5,
   "metadata": {},
   "outputs": [],
   "source": [
    "y = pd.read_csv(\"./data/train_y.csv\", delimiter = \",\", header = None)\n",
    "y = (y.values).ravel()"
   ]
  },
  {
   "cell_type": "code",
   "execution_count": 6,
   "metadata": {
    "scrolled": true
   },
   "outputs": [
    {
     "data": {
      "image/png": "[encoded data removed]",
      "text/plain": [
       "<Figure size 1440x288 with 5 Axes>"
      ]
     },
     "metadata": {},
     "output_type": "display_data"
    }
   ],
   "source": [
    "# look at some data for sanity check\n",
    "def plotter(images, labels, start):\n",
    "    plt.figure(figsize=(20,4))\n",
    "    for index, (image, label) in enumerate(zip(images[start:start+5], labels[start:start+5])):\n",
    "        plt.subplot(1, 5, index + 1)\n",
    "        plt.imshow(np.reshape(image, (64,64)), cmap= 'gray')\n",
    "        plt.title('Training: %i\\n' % label, fontsize = 20)\n",
    "plotter(x, y, 0) # first 5 images"
   ]
  },
  {
   "cell_type": "code",
   "execution_count": 7,
   "metadata": {},
   "outputs": [],
   "source": [
    "# split it on up\n",
    "np.random.seed(100) # for determinism\n",
    "x_train, x_valid, y_train, y_valid = train_test_split(\n",
    "    x, y, test_size=1/10.0, random_state=0)"
   ]
  },
  {
   "cell_type": "code",
   "execution_count": 8,
   "metadata": {},
   "outputs": [],
   "source": [
    "# set up conv net\n",
    "batch_size = 128\n",
    "epochs = 15\n",
    "\n",
    "num_classes = 10\n",
    "img_rows, img_cols, = 64, 64\n",
    "\n",
    "if K.image_data_format() == 'channels_first':\n",
    "    x_train = x_train.reshape(x_train.shape[0], 1, img_rows, img_cols)\n",
    "    x_valid = x_valid.reshape(x_valid.shape[0], 1, img_rows, img_cols)\n",
    "    input_shape = (1, img_rows, img_cols)\n",
    "else:\n",
    "    x_train = x_train.reshape(x_train.shape[0], img_rows, img_cols, 1)\n",
    "    x_valid = x_valid.reshape(x_valid.shape[0], img_rows, img_cols, 1)\n",
    "    input_shape = (img_rows, img_cols, 1)"
   ]
  },
  {
   "cell_type": "code",
   "execution_count": 9,
   "metadata": {},
   "outputs": [
    {
     "name": "stdout",
     "output_type": "stream",
     "text": [
      "(45000, 64, 64, 1)\n",
      "(5000, 64, 64, 1)\n",
      "(45000,)\n",
      "(5000,)\n"
     ]
    }
   ],
   "source": [
    "# sanity check that all the shapes of the data are correct\n",
    "print(x_train.shape)\n",
    "print(x_valid.shape)\n",
    "print(y_train.shape)\n",
    "print(y_valid.shape)"
   ]
  },
  {
   "cell_type": "code",
   "execution_count": 13,
   "metadata": {},
   "outputs": [],
   "source": [
    "# construct the image generator for data augmentation\n",
    "img_data_gen = ImageDataGenerator(\n",
    "            featurewise_center=False,  # set input mean to 0 over the dataset\n",
    "            samplewise_center=False,  # set each sample mean to 0\n",
    "            featurewise_std_normalization=False,  # divide inputs by std of the dataset\n",
    "            samplewise_std_normalization=False,  # divide each input by its std\n",
    "            zca_whitening=False,  # apply ZCA whitening\n",
    "            rotation_range=12,  # randomly rotate images in the range 0 - 20 degrees\n",
    "            horizontal_flip=False,  # don't flip images\n",
    "            vertical_flip=False)"
   ]
  },
  {
   "cell_type": "code",
   "execution_count": 14,
   "metadata": {},
   "outputs": [],
   "source": [
    "img_data_gen.fit(x_train)"
   ]
  },
  {
   "cell_type": "code",
   "execution_count": 10,
   "metadata": {},
   "outputs": [],
   "source": [
    "# train an encoder to convert labels to integer labels, one-hot encodings, and back\n",
    "encoder = LabelEncoder().fit(y.reshape((y.shape[0],)))\n",
    "\n",
    "def encode_onehot(lab):\n",
    "    return to_categorical(encoder.transform(lab))\n",
    "\n",
    "def decode_onehot(lab):\n",
    "    return encoder.inverse_transform(np.argmax(lab, axis = 1))"
   ]
  },
  {
   "cell_type": "code",
   "execution_count": 24,
   "metadata": {},
   "outputs": [],
   "source": [
    "# ew magic numbers\n",
    "model = Sequential()\n",
    "# changing from (3,3) to (2,2)\n",
    "model.add(Conv2D(32, kernel_size=(3, 3),\n",
    "                 activation='relu',\n",
    "                 input_shape=input_shape))\n",
    "model.add(Conv2D(64, (3, 3), activation='relu'))\n",
    "model.add(MaxPooling2D(pool_size=(2, 2)))\n",
    "model.add(Dropout(0.25))\n",
    "model.add(Flatten())\n",
    "model.add(Dense(128, activation='relu'))\n",
    "model.add(Dropout(0.5))\n",
    "model.add(Dense(num_classes, activation='softmax'))\n",
    "\n",
    "model.compile(loss=ks.losses.categorical_crossentropy,\n",
    "              optimizer=ks.optimizers.Adadelta(),\n",
    "              metrics=['accuracy'])"
   ]
  },
  {
   "cell_type": "code",
   "execution_count": 25,
   "metadata": {},
   "outputs": [
    {
     "name": "stdout",
     "output_type": "stream",
     "text": [
      "Train on 45000 samples, validate on 5000 samples\n",
      "Epoch 1/15\n",
      "45000/45000 [==============================] - 17s 367us/step - loss: 1.2500 - acc: 0.5911 - val_loss: 0.5196 - val_acc: 0.8498\n",
      "Epoch 2/15\n",
      "45000/45000 [==============================] - 16s 348us/step - loss: 0.6197 - acc: 0.8265 - val_loss: 0.3772 - val_acc: 0.9008\n",
      "Epoch 3/15\n",
      "45000/45000 [==============================] - 16s 346us/step - loss: 0.4893 - acc: 0.8694 - val_loss: 0.3372 - val_acc: 0.9114\n",
      "Epoch 4/15\n",
      "45000/45000 [==============================] - 16s 345us/step - loss: 0.4274 - acc: 0.8871 - val_loss: 0.3189 - val_acc: 0.9186\n",
      "Epoch 5/15\n",
      "45000/45000 [==============================] - 16s 345us/step - loss: 0.3907 - acc: 0.8968 - val_loss: 0.3242 - val_acc: 0.9158\n",
      "Epoch 6/15\n",
      "45000/45000 [==============================] - 16s 345us/step - loss: 0.3640 - acc: 0.9044 - val_loss: 0.2937 - val_acc: 0.9222\n",
      "Epoch 7/15\n",
      "45000/45000 [==============================] - 16s 346us/step - loss: 0.3426 - acc: 0.9113 - val_loss: 0.2872 - val_acc: 0.9296\n",
      "Epoch 8/15\n",
      "45000/45000 [==============================] - 16s 346us/step - loss: 0.3226 - acc: 0.9156 - val_loss: 0.2939 - val_acc: 0.9244\n",
      "Epoch 9/15\n",
      "45000/45000 [==============================] - 16s 346us/step - loss: 0.3082 - acc: 0.9202 - val_loss: 0.2777 - val_acc: 0.9292\n",
      "Epoch 10/15\n",
      "45000/45000 [==============================] - 16s 346us/step - loss: 0.2948 - acc: 0.9234 - val_loss: 0.2795 - val_acc: 0.9268\n",
      "Epoch 11/15\n",
      "45000/45000 [==============================] - 16s 346us/step - loss: 0.2836 - acc: 0.9263 - val_loss: 0.2746 - val_acc: 0.9322\n",
      "Epoch 12/15\n",
      "45000/45000 [==============================] - 16s 346us/step - loss: 0.2676 - acc: 0.9299 - val_loss: 0.2986 - val_acc: 0.9284\n",
      "Epoch 13/15\n",
      "45000/45000 [==============================] - 16s 346us/step - loss: 0.2615 - acc: 0.9326 - val_loss: 0.2809 - val_acc: 0.9360\n",
      "Epoch 14/15\n",
      "45000/45000 [==============================] - 16s 346us/step - loss: 0.2518 - acc: 0.9344 - val_loss: 0.2739 - val_acc: 0.9314\n",
      "Epoch 15/15\n",
      "45000/45000 [==============================] - 16s 346us/step - loss: 0.2407 - acc: 0.9368 - val_loss: 0.2846 - val_acc: 0.9272\n"
     ]
    },
    {
     "data": {
      "text/plain": [
       "<keras.callbacks.History at 0x7fb3b1e41e48>"
      ]
     },
     "execution_count": 25,
     "metadata": {},
     "output_type": "execute_result"
    }
   ],
   "source": [
    "# go, go, go! go, go speed racer!\n",
    "model.fit(x_train, encode_onehot(y_train),\n",
    "          batch_size=batch_size,\n",
    "          epochs=epochs,\n",
    "          verbose=1,\n",
    "          validation_data=(x_valid, encode_onehot(y_valid)))\n",
    "\n",
    "# model.fit_generator(img_data_gen.flow(x_train, encode_onehot(y_train), batch_size=15),\n",
    "#         validation_data=(x_valid, encode_onehot(y_valid)), steps_per_epoch=int(len(x_train)/20),\n",
    "#         epochs=epochs, verbose=1)"
   ]
  },
  {
   "cell_type": "code",
   "execution_count": 12,
   "metadata": {},
   "outputs": [
    {
     "name": "stdout",
     "output_type": "stream",
     "text": [
      "Test loss: 0.2546268650650978\n",
      "Test accuracy: 0.9364\n"
     ]
    }
   ],
   "source": [
    "score = model.evaluate(x_valid, encode_onehot(y_valid), verbose=0)\n",
    "print('Test loss:', score[0])\n",
    "print('Test accuracy:', score[1])"
   ]
  },
  {
   "cell_type": "code",
   "execution_count": 24,
   "metadata": {},
   "outputs": [],
   "source": [
    "# testing, 1, 2, testing....\n",
    "x_test = pd.read_csv(\"./data/processed_test_x.csv\", delimiter=\",\", header = None)\n",
    "x_test = x_test.values\n",
    "x_test = x_test.astype(np.float32)\n",
    "x_test /= 255\n",
    "if K.image_data_format() == 'channels_first':\n",
    "    x_test = x_test.reshape(x_test.shape[0], 1, img_rows, img_cols)\n",
    "else:\n",
    "    x_test = x_test.reshape(x_test.shape[0], img_rows, img_cols, 1)"
   ]
  },
  {
   "cell_type": "code",
   "execution_count": 14,
   "metadata": {},
   "outputs": [
    {
     "name": "stdout",
     "output_type": "stream",
     "text": [
      "[7 2 0 7 6 1 5 3 8 1 5 1 9 1 0 2 3 0 0 3 3 0 6 1 6 0 2 8 2 0 2 8 9 1 8 6 0\n",
      " 1 0 4 0 7 1 1 0 2 3 6 8 4 9 7 3 9 8 2 2 6 5 9 9 9 3 3 8 8 3 8 9 5 2 4 9 4\n",
      " 8 5 1 8 1 4 9 4 6 8 3 8 1 9 1 6 3 9 0 2 9 3 9 7 2 4]\n"
     ]
    }
   ],
   "source": [
    "predictions = model.predict_classes(x_test)\n",
    "ids = list(range(len(predictions)))\n",
    "\n",
    "print(predictions[:100])\n",
    "output = pd.DataFrame({'Id': ids, 'Label': predictions})\n",
    "output.to_csv(\"./data/ConvNetPredictions.csv\", header = True, index = False)"
   ]
  },
  {
   "cell_type": "code",
   "execution_count": 18,
   "metadata": {},
   "outputs": [
    {
     "data": {
      "image/png": "[encoded data removed]",
      "text/plain": [
       "<Figure size 1440x288 with 5 Axes>"
      ]
     },
     "metadata": {},
     "output_type": "display_data"
    }
   ],
   "source": [
    "plotter(x_test, ids, 10)"
   ]
  },
  {
   "cell_type": "markdown",
   "metadata": {},
   "source": [
    "## Trying different architectures and hyperparams"
   ]
  },
  {
   "cell_type": "code",
   "execution_count": 11,
   "metadata": {},
   "outputs": [],
   "source": [
    "model1 = Sequential()\n",
    "model1.add(Conv2D(32, (3, 3), activation='relu', input_shape=input_shape))\n",
    "model1.add(Conv2D(64, (3, 3), activation='relu'))\n",
    "model1.add(MaxPooling2D(pool_size=(2, 2)))\n",
    "model1.add(Dropout(0.25))\n",
    "model1.add(Flatten())\n",
    "model1.add(Dense(128, activation='relu'))\n",
    "model1.add(Dropout(0.5))\n",
    "model1.add(Dense(num_classes, activation='softmax'))"
   ]
  },
  {
   "cell_type": "code",
   "execution_count": 16,
   "metadata": {},
   "outputs": [],
   "source": [
    "rfield=5\n",
    "pool_size=2\n",
    "model2 = Sequential()\n",
    "model2.add(Conv2D(8, (rfield, rfield), padding='same', input_shape=input_shape))\n",
    "model2.add(Activation('relu'))\n",
    "model2.add(Conv2D(8, (rfield, rfield)))\n",
    "model2.add(Activation('relu'))\n",
    "model2.add(MaxPooling2D(pool_size=(pool_size, pool_size)))\n",
    "model2.add(Dropout(0.25))\n",
    "\n",
    "model2.add(Conv2D(16, (rfield, rfield), padding='same'))\n",
    "model2.add(Activation('relu'))\n",
    "model2.add(Conv2D(16, (rfield, rfield), padding='same'))\n",
    "model2.add(Activation('relu'))\n",
    "model2.add(MaxPooling2D(pool_size=(pool_size, pool_size)))\n",
    "model2.add(Dropout(0.25))\n",
    "\n",
    "model2.add(Flatten())\n",
    "model2.add(Dense(128))\n",
    "model2.add(Activation('relu'))\n",
    "model2.add(Dropout(0.5))\n",
    "model2.add(Dense(10))\n",
    "model2.add(Activation('softmax'))"
   ]
  },
  {
   "cell_type": "code",
   "execution_count": 49,
   "metadata": {},
   "outputs": [],
   "source": [
    "model3 = Sequential()\n",
    "\n",
    "model3.add(Conv2D(32, (3, 3), input_shape=input_shape))\n",
    "model3.add(Activation('relu'))\n",
    "BatchNormalization(axis=-1)\n",
    "model3.add(Conv2D(32, (3, 3)))\n",
    "model3.add(Activation('relu'))\n",
    "model3.add(MaxPooling2D(pool_size=(2,2)))\n",
    "\n",
    "BatchNormalization(axis=-1)\n",
    "model3.add(Conv2D(64,(3, 3)))\n",
    "model3.add(Activation('relu'))\n",
    "BatchNormalization(axis=-1)\n",
    "model3.add(Conv2D(64, (3, 3)))\n",
    "model3.add(Activation('relu'))\n",
    "model3.add(MaxPooling2D(pool_size=(2,2)))\n",
    "model3.add(Flatten())\n",
    "\n",
    "BatchNormalization()\n",
    "model3.add(Dense(512))\n",
    "model3.add(Activation('relu'))\n",
    "BatchNormalization()\n",
    "model3.add(Dropout(0.5))\n",
    "model3.add(Dense(10))\n",
    "\n",
    "model3.add(Activation('softmax'))"
   ]
  },
  {
   "cell_type": "code",
   "execution_count": 48,
   "metadata": {},
   "outputs": [],
   "source": [
    "# model4 = Sequential()\n",
    "# model4.add(Conv2D(32, (3, 3), activation='relu', input_shape=input_shape))\n",
    "# model4.add(Conv2D(64, (3, 3), activation='relu'))\n",
    "# model4.add(MaxPooling2D(pool_size=(2, 2)))\n",
    "# model4.add(Dropout(0.25))\n",
    "# model4.add(Flatten())\n",
    "# model4.add(Dense(128, activation='relu'))\n",
    "# model4.add(Dropout(0.5))\n",
    "# model4.add(Dense(num_classes, activation='softmax'))\n",
    "\n",
    "model4 = Sequential()\n",
    "model4.add(Conv2D(30, (5, 5), input_shape=input_shape, activation='relu'))\n",
    "model4.add(MaxPooling2D(pool_size=(2, 2)))\n",
    "model4.add(Conv2D(15, (3, 3), activation='relu'))\n",
    "model4.add(MaxPooling2D(pool_size=(2, 2)))\n",
    "model4.add(Dropout(0.5))\n",
    "model4.add(Flatten())\n",
    "model4.add(Dense(128, activation='relu'))\n",
    "model4.add(Dense(50, activation='relu'))\n",
    "model4.add(Dense(num_classes, activation='softmax'))"
   ]
  },
  {
   "cell_type": "code",
   "execution_count": null,
   "metadata": {},
   "outputs": [],
   "source": [
    "models = [model1, model2, model3, model4]\n",
    "histories = []\n",
    "for m in models:\n",
    "    m.compile(loss=ks.losses.categorical_crossentropy,\n",
    "              optimizer=ks.optimizers.Adadelta(),\n",
    "              metrics=['accuracy'])\n",
    "    history = m.fit(x_train, encode_onehot(y_train),\n",
    "          batch_size=batch_size,\n",
    "          epochs=epochs,\n",
    "          verbose=1,\n",
    "          validation_data=(x_valid, encode_onehot(y_valid)))\n",
    "    histories.append(history)"
   ]
  },
  {
   "cell_type": "code",
   "execution_count": 52,
   "metadata": {},
   "outputs": [
    {
     "name": "stdout",
     "output_type": "stream",
     "text": [
      "Train on 45000 samples, validate on 5000 samples\n",
      "Epoch 1/22\n",
      "45000/45000 [==============================] - 5s 110us/step - loss: 0.1126 - acc: 0.9683 - val_loss: 0.2500 - val_acc: 0.9468\n",
      "Epoch 2/22\n",
      "45000/45000 [==============================] - 5s 103us/step - loss: 0.1082 - acc: 0.9692 - val_loss: 0.2423 - val_acc: 0.9466\n",
      "Epoch 3/22\n",
      "45000/45000 [==============================] - 5s 101us/step - loss: 0.1041 - acc: 0.9705 - val_loss: 0.2552 - val_acc: 0.9478\n",
      "Epoch 4/22\n",
      "45000/45000 [==============================] - 5s 100us/step - loss: 0.1041 - acc: 0.9697 - val_loss: 0.2566 - val_acc: 0.9470\n",
      "Epoch 5/22\n",
      "45000/45000 [==============================] - 5s 101us/step - loss: 0.0992 - acc: 0.9713 - val_loss: 0.2597 - val_acc: 0.9462\n",
      "Epoch 6/22\n",
      "45000/45000 [==============================] - 5s 103us/step - loss: 0.0954 - acc: 0.9721 - val_loss: 0.2584 - val_acc: 0.9454\n",
      "Epoch 7/22\n",
      "45000/45000 [==============================] - 5s 102us/step - loss: 0.0970 - acc: 0.9718 - val_loss: 0.2515 - val_acc: 0.9476\n",
      "Epoch 8/22\n",
      "45000/45000 [==============================] - 5s 100us/step - loss: 0.0886 - acc: 0.9730 - val_loss: 0.2612 - val_acc: 0.9420\n",
      "Epoch 9/22\n",
      "45000/45000 [==============================] - 5s 101us/step - loss: 0.0904 - acc: 0.9730 - val_loss: 0.2619 - val_acc: 0.9468\n",
      "Epoch 10/22\n",
      "45000/45000 [==============================] - 5s 102us/step - loss: 0.0868 - acc: 0.9748 - val_loss: 0.2698 - val_acc: 0.9460\n",
      "Epoch 11/22\n",
      "45000/45000 [==============================] - 5s 102us/step - loss: 0.0842 - acc: 0.9746 - val_loss: 0.2569 - val_acc: 0.9482\n",
      "Epoch 12/22\n",
      "45000/45000 [==============================] - 5s 102us/step - loss: 0.0836 - acc: 0.9750 - val_loss: 0.2718 - val_acc: 0.9464\n",
      "Epoch 13/22\n",
      "45000/45000 [==============================] - 5s 101us/step - loss: 0.0801 - acc: 0.9757 - val_loss: 0.2754 - val_acc: 0.9468\n",
      "Epoch 14/22\n",
      "45000/45000 [==============================] - 5s 101us/step - loss: 0.0800 - acc: 0.9749 - val_loss: 0.2839 - val_acc: 0.9458\n",
      "Epoch 15/22\n",
      "45000/45000 [==============================] - 5s 102us/step - loss: 0.0784 - acc: 0.9767 - val_loss: 0.2611 - val_acc: 0.9468\n",
      "Epoch 16/22\n",
      "45000/45000 [==============================] - 5s 101us/step - loss: 0.0783 - acc: 0.9755 - val_loss: 0.2834 - val_acc: 0.9470\n",
      "Epoch 17/22\n",
      "45000/45000 [==============================] - 5s 100us/step - loss: 0.0747 - acc: 0.9777 - val_loss: 0.2915 - val_acc: 0.9450\n",
      "Epoch 18/22\n",
      "45000/45000 [==============================] - 4s 100us/step - loss: 0.0725 - acc: 0.9776 - val_loss: 0.2967 - val_acc: 0.9468\n",
      "Epoch 19/22\n",
      "45000/45000 [==============================] - 5s 100us/step - loss: 0.0709 - acc: 0.9781 - val_loss: 0.2875 - val_acc: 0.9444\n",
      "Epoch 20/22\n",
      "45000/45000 [==============================] - 5s 100us/step - loss: 0.0684 - acc: 0.9785 - val_loss: 0.2986 - val_acc: 0.9456\n",
      "Epoch 21/22\n",
      "45000/45000 [==============================] - 5s 104us/step - loss: 0.0706 - acc: 0.9780 - val_loss: 0.2815 - val_acc: 0.9464\n",
      "Epoch 22/22\n",
      "45000/45000 [==============================] - 5s 101us/step - loss: 0.0674 - acc: 0.9782 - val_loss: 0.3061 - val_acc: 0.9452\n"
     ]
    }
   ],
   "source": [
    "models2 = [model4]\n",
    "histories2 = []\n",
    "for m in models2:\n",
    "    m.compile(loss=ks.losses.categorical_crossentropy,\n",
    "              optimizer=ks.optimizers.Adadelta(),\n",
    "              metrics=['accuracy'])\n",
    "    history = m.fit(x_train, encode_onehot(y_train),\n",
    "          batch_size=batch_size,\n",
    "          epochs=epochs+7,\n",
    "          verbose=1,\n",
    "          validation_data=(x_valid, encode_onehot(y_valid)))\n",
    "    histories2.append(history)"
   ]
  },
  {
   "cell_type": "code",
   "execution_count": 25,
   "metadata": {},
   "outputs": [
    {
     "name": "stdout",
     "output_type": "stream",
     "text": [
      "[7 2 0 7 6 1 5 3 8 1 5 2 9 1 0 2 3 0 0 3 3 0 6 1 6 0 2 8 3 0 2 8 9 1 8 6 0\n",
      " 1 3 4 0 7 1 1 0 2 3 6 8 4 9 7 3 9 8 2 2 6 5 9 9 9 3 3 8 8 3 8 9 5 2 4 9 4\n",
      " 8 3 1 8 1 4 9 4 6 8 3 8 7 7 1 6 3 9 0 2 9 3 9 7 2 4]\n"
     ]
    }
   ],
   "source": [
    "predictions = model2.predict_classes(x_test)\n",
    "ids = list(range(len(predictions)))\n",
    "\n",
    "print(predictions[:100])\n",
    "output = pd.DataFrame({'Id': ids, 'Label': predictions})\n",
    "output.to_csv(\"./data/ConvNetPredictions2.csv\", header = True, index = False)"
   ]
  },
  {
   "cell_type": "code",
   "execution_count": 35,
   "metadata": {},
   "outputs": [
    {
     "data": {
      "image/png": "[encoded data removed]",
      "text/plain": [
       "<Figure size 1440x288 with 5 Axes>"
      ]
     },
     "metadata": {},
     "output_type": "display_data"
    }
   ],
   "source": [
    "plotter(x_test, ids, 236)"
   ]
  },
  {
   "cell_type": "code",
   "execution_count": 37,
   "metadata": {},
   "outputs": [
    {
     "name": "stdout",
     "output_type": "stream",
     "text": [
      "Train on 45000 samples, validate on 5000 samples\n",
      "Epoch 1/20\n",
      "45000/45000 [==============================] - 8s 186us/step - loss: 0.7567 - acc: 0.7727 - val_loss: 0.3579 - val_acc: 0.9048\n",
      "Epoch 2/20\n",
      "45000/45000 [==============================] - 8s 178us/step - loss: 0.3843 - acc: 0.9055 - val_loss: 0.3057 - val_acc: 0.9214\n",
      "Epoch 3/20\n",
      "45000/45000 [==============================] - 8s 177us/step - loss: 0.3263 - acc: 0.9214 - val_loss: 0.2393 - val_acc: 0.9368\n",
      "Epoch 4/20\n",
      "45000/45000 [==============================] - 8s 177us/step - loss: 0.3034 - acc: 0.9276 - val_loss: 0.2586 - val_acc: 0.9438\n",
      "Epoch 5/20\n",
      "45000/45000 [==============================] - 8s 176us/step - loss: 0.2888 - acc: 0.9319 - val_loss: 0.2599 - val_acc: 0.9410\n",
      "Epoch 6/20\n",
      "45000/45000 [==============================] - 8s 177us/step - loss: 0.2684 - acc: 0.9376 - val_loss: 0.2567 - val_acc: 0.9348\n",
      "Epoch 7/20\n",
      "45000/45000 [==============================] - 8s 177us/step - loss: 0.2615 - acc: 0.9384 - val_loss: 0.2303 - val_acc: 0.9436\n",
      "Epoch 8/20\n",
      "45000/45000 [==============================] - 8s 177us/step - loss: 0.2526 - acc: 0.9409 - val_loss: 0.2122 - val_acc: 0.9490\n",
      "Epoch 9/20\n",
      "45000/45000 [==============================] - 8s 177us/step - loss: 0.2437 - acc: 0.9432 - val_loss: 0.2268 - val_acc: 0.9492\n",
      "Epoch 10/20\n",
      "45000/45000 [==============================] - 8s 177us/step - loss: 0.2362 - acc: 0.9444 - val_loss: 0.2107 - val_acc: 0.9514\n",
      "Epoch 11/20\n",
      "45000/45000 [==============================] - 8s 176us/step - loss: 0.2329 - acc: 0.9452 - val_loss: 0.2126 - val_acc: 0.9506\n",
      "Epoch 12/20\n",
      "45000/45000 [==============================] - 8s 174us/step - loss: 0.2267 - acc: 0.9473 - val_loss: 0.2078 - val_acc: 0.9506\n",
      "Epoch 13/20\n",
      "45000/45000 [==============================] - 8s 175us/step - loss: 0.2189 - acc: 0.9484 - val_loss: 0.2167 - val_acc: 0.9492\n",
      "Epoch 14/20\n",
      "45000/45000 [==============================] - 8s 173us/step - loss: 0.2200 - acc: 0.9497 - val_loss: 0.2283 - val_acc: 0.9492\n",
      "Epoch 15/20\n",
      "45000/45000 [==============================] - 8s 173us/step - loss: 0.2177 - acc: 0.9486 - val_loss: 0.2113 - val_acc: 0.9522\n",
      "Epoch 16/20\n",
      "45000/45000 [==============================] - 8s 173us/step - loss: 0.2146 - acc: 0.9497 - val_loss: 0.2130 - val_acc: 0.9538\n",
      "Epoch 17/20\n",
      "45000/45000 [==============================] - 8s 172us/step - loss: 0.2093 - acc: 0.9504 - val_loss: 0.2240 - val_acc: 0.9492\n",
      "Epoch 18/20\n",
      "45000/45000 [==============================] - 8s 172us/step - loss: 0.2073 - acc: 0.9512 - val_loss: 0.2052 - val_acc: 0.9520\n",
      "Epoch 19/20\n",
      "45000/45000 [==============================] - 8s 171us/step - loss: 0.2049 - acc: 0.9527 - val_loss: 0.2056 - val_acc: 0.9520\n",
      "Epoch 20/20\n",
      "45000/45000 [==============================] - 8s 172us/step - loss: 0.2037 - acc: 0.9520 - val_loss: 0.2173 - val_acc: 0.9528\n"
     ]
    }
   ],
   "source": [
    "# 94.066 on test! 0_0\n",
    "\n",
    "rfield=8\n",
    "pool_size=2\n",
    "model2 = Sequential()\n",
    "model2.add(Conv2D(8, (rfield, rfield), padding='same', input_shape=input_shape))\n",
    "model2.add(Activation('relu'))\n",
    "model2.add(Conv2D(8, (rfield, rfield)))\n",
    "model2.add(Activation('relu'))\n",
    "model2.add(MaxPooling2D(pool_size=(pool_size, pool_size)))\n",
    "model2.add(Dropout(0.25))\n",
    "\n",
    "model2.add(Conv2D(16, (rfield, rfield), padding='same'))\n",
    "model2.add(Activation('relu'))\n",
    "model2.add(Conv2D(16, (rfield, rfield), padding='same'))\n",
    "model2.add(Activation('relu'))\n",
    "model2.add(MaxPooling2D(pool_size=(pool_size, pool_size)))\n",
    "model2.add(Dropout(0.25))\n",
    "\n",
    "model2.add(Flatten())\n",
    "model2.add(Dense(128))\n",
    "model2.add(Activation('relu'))\n",
    "model2.add(Dropout(0.5))\n",
    "model2.add(Dense(10))\n",
    "model2.add(Activation('softmax'))\n",
    "\n",
    "model2.compile(loss=ks.losses.categorical_crossentropy,\n",
    "          optimizer=ks.optimizers.Adadelta(),\n",
    "          metrics=['accuracy'])\n",
    "history = model2.fit(x_train, encode_onehot(y_train),\n",
    "      batch_size=batch_size,\n",
    "      epochs=epochs+5,\n",
    "      verbose=1,\n",
    "      validation_data=(x_valid, encode_onehot(y_valid)))"
   ]
  },
  {
   "cell_type": "code",
   "execution_count": 38,
   "metadata": {},
   "outputs": [
    {
     "name": "stdout",
     "output_type": "stream",
     "text": [
      "[7 2 0 7 6 1 5 3 8 1 5 1 9 1 0 2 3 0 0 3 3 0 6 1 4 0 2 8 3 0 2 8 9 1 8 6 0\n",
      " 1 3 4 0 7 1 1 0 2 3 6 8 4 9 7 3 9 8 2 2 6 5 9 9 9 3 3 8 8 3 8 9 5 2 4 9 4\n",
      " 8 3 1 8 1 4 9 4 6 8 3 8 7 7 1 6 3 9 0 2 9 3 9 7 2 4]\n"
     ]
    }
   ],
   "source": [
    "predictions = model2.predict_classes(x_test)\n",
    "ids = list(range(len(predictions)))\n",
    "\n",
    "print(predictions[:100])\n",
    "output = pd.DataFrame({'Id': ids, 'Label': predictions})\n",
    "output.to_csv(\"./data/ConvNetPredictions3.csv\", header = True, index = False)"
   ]
  },
  {
   "cell_type": "code",
   "execution_count": 47,
   "metadata": {},
   "outputs": [
    {
     "data": {
      "image/png": "[encoded data removed]",
      "text/plain": [
       "<Figure size 1440x288 with 5 Axes>"
      ]
     },
     "metadata": {},
     "output_type": "display_data"
    }
   ],
   "source": [
    "plotter(x_test, ids, 203)"
   ]
  },
  {
   "cell_type": "code",
   "execution_count": 53,
   "metadata": {},
   "outputs": [
    {
     "name": "stdout",
     "output_type": "stream",
     "text": [
      "Train on 45000 samples, validate on 5000 samples\n",
      "Epoch 1/20\n",
      "45000/45000 [==============================] - 5s 116us/step - loss: 0.9830 - acc: 0.6910 - val_loss: 0.4152 - val_acc: 0.8836\n",
      "Epoch 2/20\n",
      "45000/45000 [==============================] - 5s 102us/step - loss: 0.4888 - acc: 0.8714 - val_loss: 0.3268 - val_acc: 0.9118\n",
      "Epoch 3/20\n",
      "45000/45000 [==============================] - 5s 103us/step - loss: 0.4051 - acc: 0.8975 - val_loss: 0.3075 - val_acc: 0.9178\n",
      "Epoch 4/20\n",
      "45000/45000 [==============================] - 5s 104us/step - loss: 0.3693 - acc: 0.9078 - val_loss: 0.2929 - val_acc: 0.9250\n",
      "Epoch 5/20\n",
      "45000/45000 [==============================] - 5s 103us/step - loss: 0.3490 - acc: 0.9138 - val_loss: 0.2701 - val_acc: 0.9278\n",
      "Epoch 6/20\n",
      "45000/45000 [==============================] - 5s 102us/step - loss: 0.3318 - acc: 0.9192 - val_loss: 0.2588 - val_acc: 0.9344\n",
      "Epoch 7/20\n",
      "45000/45000 [==============================] - 5s 103us/step - loss: 0.3160 - acc: 0.9215 - val_loss: 0.2592 - val_acc: 0.9340\n",
      "Epoch 8/20\n",
      "45000/45000 [==============================] - 5s 103us/step - loss: 0.3092 - acc: 0.9264 - val_loss: 0.2436 - val_acc: 0.9396\n",
      "Epoch 9/20\n",
      "45000/45000 [==============================] - 5s 103us/step - loss: 0.2995 - acc: 0.9270 - val_loss: 0.2575 - val_acc: 0.9356\n",
      "Epoch 10/20\n",
      "45000/45000 [==============================] - 5s 102us/step - loss: 0.2946 - acc: 0.9292 - val_loss: 0.2377 - val_acc: 0.9414\n",
      "Epoch 11/20\n",
      "45000/45000 [==============================] - 5s 103us/step - loss: 0.2859 - acc: 0.9320 - val_loss: 0.2473 - val_acc: 0.9402\n",
      "Epoch 12/20\n",
      "45000/45000 [==============================] - 5s 104us/step - loss: 0.2832 - acc: 0.9328 - val_loss: 0.2435 - val_acc: 0.9424\n",
      "Epoch 13/20\n",
      "45000/45000 [==============================] - 5s 103us/step - loss: 0.2752 - acc: 0.9336 - val_loss: 0.2377 - val_acc: 0.9424\n",
      "Epoch 14/20\n",
      "45000/45000 [==============================] - 5s 103us/step - loss: 0.2722 - acc: 0.9363 - val_loss: 0.2460 - val_acc: 0.9390\n",
      "Epoch 15/20\n",
      "45000/45000 [==============================] - 5s 103us/step - loss: 0.2664 - acc: 0.9376 - val_loss: 0.2734 - val_acc: 0.9340\n",
      "Epoch 16/20\n",
      "45000/45000 [==============================] - 5s 103us/step - loss: 0.2664 - acc: 0.9364 - val_loss: 0.2332 - val_acc: 0.9416\n",
      "Epoch 17/20\n",
      "45000/45000 [==============================] - 5s 102us/step - loss: 0.2639 - acc: 0.9371 - val_loss: 0.2263 - val_acc: 0.9420\n",
      "Epoch 18/20\n",
      "45000/45000 [==============================] - 5s 103us/step - loss: 0.2581 - acc: 0.9384 - val_loss: 0.2304 - val_acc: 0.9452\n",
      "Epoch 19/20\n",
      "45000/45000 [==============================] - 5s 101us/step - loss: 0.2574 - acc: 0.9386 - val_loss: 0.2446 - val_acc: 0.9390\n",
      "Epoch 20/20\n",
      "45000/45000 [==============================] - 5s 102us/step - loss: 0.2565 - acc: 0.9387 - val_loss: 0.2328 - val_acc: 0.9476\n"
     ]
    }
   ],
   "source": [
    "rfield=8\n",
    "pool_size=2\n",
    "model5 = Sequential()\n",
    "model5.add(Conv2D(8, (rfield, rfield), padding='valid', input_shape=input_shape))\n",
    "model5.add(Activation('relu'))\n",
    "model5.add(Conv2D(8, (rfield, rfield)))\n",
    "model5.add(Activation('relu'))\n",
    "model5.add(MaxPooling2D(pool_size=(pool_size, pool_size)))\n",
    "model5.add(Dropout(0.25))\n",
    "\n",
    "model5.add(Conv2D(16, (rfield, rfield), padding='valid'))\n",
    "model5.add(Activation('relu'))\n",
    "model5.add(Conv2D(16, (rfield, rfield), padding='valid'))\n",
    "model5.add(Activation('relu'))\n",
    "model5.add(MaxPooling2D(pool_size=(pool_size, pool_size)))\n",
    "model5.add(Dropout(0.25))\n",
    "\n",
    "model5.add(Flatten())\n",
    "model5.add(Dense(128))\n",
    "model5.add(Activation('relu'))\n",
    "model5.add(Dropout(0.5))\n",
    "model5.add(Dense(10))\n",
    "model5.add(Activation('softmax'))\n",
    "\n",
    "model5.compile(loss=ks.losses.categorical_crossentropy,\n",
    "          optimizer=ks.optimizers.Adadelta(),\n",
    "          metrics=['accuracy'])\n",
    "history = model5.fit(x_train, encode_onehot(y_train),\n",
    "      batch_size=batch_size,\n",
    "      epochs=epochs+5,\n",
    "      verbose=1,\n",
    "      validation_data=(x_valid, encode_onehot(y_valid)))"
   ]
  }
 ],
 "metadata": {
  "kernelspec": {
   "display_name": "Python 3",
   "language": "python",
   "name": "python3"
  },
  "language_info": {
   "codemirror_mode": {
    "name": "ipython",
    "version": 3
   },
   "file_extension": ".py",
   "mimetype": "text/x-python",
   "name": "python",
   "nbconvert_exporter": "python",
   "pygments_lexer": "ipython3",
   "version": "3.5.2"
  }
 },
 "nbformat": 4,
 "nbformat_minor": 2
}
