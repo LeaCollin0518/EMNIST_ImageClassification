{
 "cells": [
  {
   "cell_type": "markdown",
   "metadata": {},
   "source": [
    "# Logistic Regression"
   ]
  },
  {
   "cell_type": "code",
   "execution_count": 1,
   "metadata": {},
   "outputs": [],
   "source": [
    "from sklearn.linear_model import LogisticRegression\n",
    "import numpy as np \n",
    "import matplotlib.pyplot as plt # to visualize only \n",
    "import pandas as pd"
   ]
  },
  {
   "cell_type": "code",
   "execution_count": 2,
   "metadata": {},
   "outputs": [],
   "source": [
    "x = pd.read_csv(\"./data/processed_x.csv\", delimiter=\",\", header = None) # load from processed images"
   ]
  },
  {
   "cell_type": "code",
   "execution_count": 3,
   "metadata": {},
   "outputs": [],
   "source": [
    "x = x.values\n",
    "x = x.astype(np.float32)\n",
    "x /= 255"
   ]
  },
  {
   "cell_type": "code",
   "execution_count": 4,
   "metadata": {},
   "outputs": [],
   "source": [
    "y = pd.read_csv(\"./data/train_y.csv\", delimiter = \",\", header = None)\n",
    "y = (y.values).ravel()"
   ]
  },
  {
   "cell_type": "code",
   "execution_count": 5,
   "metadata": {},
   "outputs": [],
   "source": [
    "#visualizing 5 images indexes in array images by start and shows corresponding labels\n",
    "def plotter(images, labels, start):\n",
    "    plt.figure(figsize=(20,4))\n",
    "    for index, (image, label) in enumerate(zip(images[start:start+5], labels[start:start+5])):\n",
    "        plt.subplot(1, 5, index + 1)\n",
    "        plt.imshow(np.reshape(image, (64,64)), cmap= 'gray')\n",
    "        plt.title('Training: %i\\n' % label, fontsize = 20)"
   ]
  },
  {
   "cell_type": "code",
   "execution_count": 7,
   "metadata": {},
   "outputs": [],
   "source": [
    "#checking we loaded data correctly\n",
    "#plotter(x, y, 4140)"
   ]
  },
  {
   "cell_type": "code",
   "execution_count": 8,
   "metadata": {},
   "outputs": [],
   "source": [
    "#splitting the data into random training and validation set, right now using 1/10 as validation (5000 instances)\n",
    "#this is splitting the processed data\n",
    "\n",
    "np.random.seed(100)\n",
    "from sklearn.model_selection import train_test_split\n",
    "train_x, valid_x, train_y, valid_y = train_test_split(\n",
    "    x, y, test_size=1/10.0, random_state=0)"
   ]
  },
  {
   "cell_type": "code",
   "execution_count": 9,
   "metadata": {},
   "outputs": [],
   "source": [
    "#this solver is faster than the default\n",
    "\n",
    "logisticRegr = LogisticRegression(solver = 'lbfgs')"
   ]
  },
  {
   "cell_type": "code",
   "execution_count": 10,
   "metadata": {},
   "outputs": [
    {
     "data": {
      "text/plain": [
       "LogisticRegression(C=1.0, class_weight=None, dual=False, fit_intercept=True,\n",
       "          intercept_scaling=1, max_iter=100, multi_class='ovr', n_jobs=1,\n",
       "          penalty='l2', random_state=None, solver='lbfgs', tol=0.0001,\n",
       "          verbose=0, warm_start=False)"
      ]
     },
     "execution_count": 10,
     "metadata": {},
     "output_type": "execute_result"
    }
   ],
   "source": [
    "logisticRegr.fit(train_x, train_y)"
   ]
  },
  {
   "cell_type": "code",
   "execution_count": 11,
   "metadata": {},
   "outputs": [],
   "source": [
    "#predict on validation\n",
    "predictions = logisticRegr.predict(valid_x)"
   ]
  },
  {
   "cell_type": "code",
   "execution_count": 12,
   "metadata": {},
   "outputs": [
    {
     "name": "stdout",
     "output_type": "stream",
     "text": [
      "Accuracy: 0.7386\n"
     ]
    }
   ],
   "source": [
    "corr = 0\n",
    "\n",
    "for i, pred in enumerate(predictions):\n",
    "    if pred == valid_y[i]:\n",
    "        corr += 1\n",
    "\n",
    "acc = corr/len(valid_y)\n",
    "print(\"Accuracy: \" + str(acc))"
   ]
  },
  {
   "cell_type": "code",
   "execution_count": 13,
   "metadata": {},
   "outputs": [],
   "source": [
    "test_x = pd.read_csv(\"./data/processed_test_x.csv\", delimiter=\",\", header = None) # load from text "
   ]
  },
  {
   "cell_type": "code",
   "execution_count": 14,
   "metadata": {},
   "outputs": [],
   "source": [
    "test_x = test_x.values\n",
    "test_x = test_x.astype(np.float32)\n",
    "test_x /= 255"
   ]
  },
  {
   "cell_type": "code",
   "execution_count": 16,
   "metadata": {},
   "outputs": [],
   "source": [
    "#visualizing a random 5 images\n",
    "#indices = list(range(test_x.shape[0]))\n",
    "#plotter(test_x, indices, 0)"
   ]
  },
  {
   "cell_type": "code",
   "execution_count": 17,
   "metadata": {},
   "outputs": [],
   "source": [
    "#predict on validation\n",
    "predictions = logisticRegr.predict(test_x)"
   ]
  },
  {
   "cell_type": "code",
   "execution_count": 18,
   "metadata": {},
   "outputs": [],
   "source": [
    "ids = list(range(len(predictions)))\n",
    "\n",
    "output = pd.DataFrame({'Id': ids, 'Label': predictions})\n",
    "\n",
    "output.to_csv(\"./predictions.csv\", header = True, index = False)"
   ]
  }
 ],
 "metadata": {
  "kernelspec": {
   "display_name": "Python 3",
   "language": "python",
   "name": "python3"
  },
  "language_info": {
   "codemirror_mode": {
    "name": "ipython",
    "version": 3
   },
   "file_extension": ".py",
   "mimetype": "text/x-python",
   "name": "python",
   "nbconvert_exporter": "python",
   "pygments_lexer": "ipython3",
   "version": "3.5.2"
  }
 },
 "nbformat": 4,
 "nbformat_minor": 2
}
