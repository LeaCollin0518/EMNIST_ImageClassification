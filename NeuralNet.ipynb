{
 "cells": [
  {
   "cell_type": "code",
   "execution_count": 35,
   "metadata": {},
   "outputs": [],
   "source": [
    "import numpy as np \n",
    "import pandas as pd\n",
    "import random\n",
    "import matplotlib.pyplot as plt # to visualize only\n",
    "from skimage.transform import resize, rescale\n",
    "from sklearn.model_selection import KFold"
   ]
  },
  {
   "cell_type": "code",
   "execution_count": 2,
   "metadata": {},
   "outputs": [],
   "source": [
    "data_x_pd = pd.read_csv(\"./data/processed_x.csv\", delimiter=\",\", header = None) # load from processed images\n",
    "# train_x = train_x.values # dataframe to numpy ndarray\n",
    "# train_x = train_x.astype(np.float32)\n",
    "# train_x /= 255 # normalize"
   ]
  },
  {
   "cell_type": "code",
   "execution_count": 3,
   "metadata": {},
   "outputs": [],
   "source": [
    "data_y_pd = pd.read_csv(\"./data/train_y.csv\", delimiter = \",\", header = None)\n",
    "# train_y = (train_y.values).ravel()"
   ]
  },
  {
   "cell_type": "code",
   "execution_count": 37,
   "metadata": {},
   "outputs": [],
   "source": [
    "# Can see resized 28x28 image\n",
    "def plotter(images, labels, start):\n",
    "    plt.figure(figsize=(20,4))\n",
    "    for index, (image, label) in enumerate(zip(images[start:start+5], labels[start:start+5])):\n",
    "        plt.subplot(1, 5, index + 1)\n",
    "        im = np.reshape(image, (28,28))\n",
    "        plt.imshow(im, cmap= 'gray')\n",
    "        plt.title('Training: %i\\n' % label, fontsize = 20)"
   ]
  },
  {
   "cell_type": "code",
   "execution_count": 40,
   "metadata": {},
   "outputs": [
    {
     "data": {
      "image/png": "[encoded data removed]",
      "text/plain": [
       "<Figure size 1440x288 with 5 Axes>"
      ]
     },
     "metadata": {},
     "output_type": "display_data"
    }
   ],
   "source": [
    "plotter(x, data_y, 0)"
   ]
  },
  {
   "cell_type": "code",
   "execution_count": 38,
   "metadata": {},
   "outputs": [],
   "source": [
    "### Prepare Data for Neural Net ###\n",
    "\n",
    "data_x = data_x_pd.head(5000).values.astype(np.float32)\n",
    "data_y = np.array(list(map(int, data_y_pd.head(5000)[0].tolist())), dtype=object)\n",
    "\n",
    "# Normalize x values\n",
    "data_x /= 255\n",
    "\n",
    "num_rows = 28\n",
    "num_cols = num_rows\n",
    "\n",
    "x = np.zeros((data_x.shape[0], num_rows*num_cols))\n",
    "\n",
    "scale = num_rows/64\n",
    "\n",
    "for i in range(len(x)):\n",
    "    img = data_x[i].reshape(64,64)\n",
    "    image = rescale(img, scale, mode = 'reflect')\n",
    "    image = image.reshape(28**2)\n",
    "    x[i] = image"
   ]
  },
  {
   "cell_type": "code",
   "execution_count": 149,
   "metadata": {},
   "outputs": [],
   "source": [
    "# calculate sigmoid of input\n",
    "\n",
    "def sigmoid(z):\n",
    "    return 1.0/(1.0 + np.exp(-z))\n",
    "\n",
    "# calculate derivative of sigmoid at the input\n",
    "def sigmoid_prime(z):\n",
    "    return sigmoid(z)*(1-sigmoid(z))"
   ]
  },
  {
   "cell_type": "code",
   "execution_count": 166,
   "metadata": {},
   "outputs": [],
   "source": [
    "class Network(object):\n",
    "\n",
    "    def __init__(self, dims):\n",
    "        # dims contains number of neurons in each layer\n",
    "        # first index is dimension of input (eg. size of image)\n",
    "        # last layer is dimension of output (10)\n",
    "        # length of dims is # of layers of network\n",
    "        # biases and weights are intialized randomly using Gaussian dist 9 (mean 0, sd 1)\n",
    "        self.num_layers = len(dims)\n",
    "        self.dims = dims\n",
    "        self.biases = [np.random.randn(y, 1) for y in dims[1:]]\n",
    "        self.weights = [np.random.randn(y, x)\n",
    "                        for x, y in zip(dims[:-1], dims[1:])]\n",
    "    \n",
    "    # calculate value out of first hidden layer\n",
    "    def feedforward(self, a):\n",
    "        for b, w in zip(self.biases, self.weights):\n",
    "            a = sigmoid(np.dot(w, a)+b)\n",
    "        return a\n",
    "\n",
    "    def SGD(self, training_data, epochs, mini_batch_size, eta,\n",
    "            valid_data, progress = None):\n",
    "        \"\"\"Train the neural network using mini-batch stochastic\n",
    "        gradient descent.  The ``training_data`` is a list of tuples\n",
    "        ``(x, y)`` representing the training inputs and the desired\n",
    "        outputs.  The other non-optional parameters are\n",
    "        self-explanatory.  If ``test_data`` is provided then the\n",
    "        network will be evaluated against the test data after each\n",
    "        epoch, and partial progress printed out.  This is useful for\n",
    "        tracking progress, but slows things down substantially.\"\"\"\n",
    "        if valid_data: n_valid = len(valid_data)\n",
    "        n = len(training_data)\n",
    "        for j in range(epochs):\n",
    "            random.shuffle(training_data)\n",
    "            self.update_mini_batch(training_data, eta)\n",
    "            \n",
    "            valid_score = self.evaluate(valid_data)\n",
    "#             print(\"Epoch {0}: {1} / {2}\".format(\n",
    "#                j, valid_score, n_valid))\n",
    "            if progress is not None:\n",
    "                progress[j] = valid_score\n",
    "            \n",
    "        return valid_score\n",
    "        \n",
    "    def update_mini_batch(self, mini_batch, eta):\n",
    "        \"\"\"Update the network's weights and biases by applying\n",
    "        gradient descent using backpropagation to a single mini batch.\n",
    "        The ``mini_batch`` is a list of tuples ``(x, y)``, and ``eta``\n",
    "        is the learning rate.\"\"\"\n",
    "        nabla_b = [np.zeros(b.shape) for b in self.biases]\n",
    "        nabla_w = [np.zeros(w.shape) for w in self.weights]\n",
    "        for x, y in mini_batch:\n",
    "            delta_nabla_b, delta_nabla_w = self.backprop(x, y)\n",
    "            nabla_b = [nb+dnb for nb, dnb in zip(nabla_b, delta_nabla_b)]\n",
    "            nabla_w = [nw+dnw for nw, dnw in zip(nabla_w, delta_nabla_w)]\n",
    "        self.weights = [w-(eta/len(mini_batch))*nw\n",
    "                        for w, nw in zip(self.weights, nabla_w)]\n",
    "        self.biases = [b-(eta/len(mini_batch))*nb\n",
    "                       for b, nb in zip(self.biases, nabla_b)]\n",
    "\n",
    "    def backprop(self, x, y):\n",
    "        \"\"\"Return a tuple ``(nabla_b, nabla_w)`` representing the\n",
    "        gradient for the cost function C_x.  ``nabla_b`` and\n",
    "        ``nabla_w`` are layer-by-layer lists of numpy arrays, similar\n",
    "        to ``self.biases`` and ``self.weights``.\"\"\"\n",
    "        nabla_b = [np.zeros(b.shape) for b in self.biases]\n",
    "        nabla_w = [np.zeros(w.shape) for w in self.weights]\n",
    "        \n",
    "        # feedforward\n",
    "        activation = x\n",
    "        activations = [x] # list to store all the activations, layer by layer\n",
    "        zs = [] # list to store all the z vectors, layer by layer\n",
    "        for b, w in zip(self.biases, self.weights):\n",
    "            z = np.dot(w, activation)+b\n",
    "            zs.append(z)\n",
    "            activation = sigmoid(z)\n",
    "            activations.append(activation)\n",
    "            \n",
    "        # backward pass\n",
    "        delta = self.cost_derivative(activations[-1], y) * \\\n",
    "            sigmoid_prime(zs[-1])\n",
    "        nabla_b[-1] = delta\n",
    "        nabla_w[-1] = np.dot(delta, activations[-2].transpose())\n",
    "\n",
    "        # Note that the variable l in the loop below is used a little\n",
    "        # differently to the notation in Chapter 2 of the book.  Here,\n",
    "        # l = 1 means the last layer of neurons, l = 2 is the\n",
    "        # second-last layer, and so on.  It's a renumbering of the\n",
    "        # scheme in the book, used here to take advantage of the fact\n",
    "        # that Python can use negative indices in lists.\n",
    "        for l in range(2, self.num_layers):\n",
    "            z = zs[-l]\n",
    "            sp = sigmoid_prime(z)\n",
    "            delta = np.dot(self.weights[-l+1].transpose(), delta) * sp\n",
    "            nabla_b[-l] = delta\n",
    "            nabla_w[-l] = np.dot(delta, activations[-l-1].transpose())\n",
    "        return (nabla_b, nabla_w)\n",
    "\n",
    "    def evaluate(self, test_data):\n",
    "        \"\"\"Return the number of test inputs for which the neural\n",
    "        network outputs the correct result. Note that the neural\n",
    "        network's output is assumed to be the index of whichever\n",
    "        neuron in the final layer has the highest activation.\"\"\"\n",
    "        test_results = [(np.argmax(self.feedforward(x)), y)\n",
    "                        for (x, y) in test_data]  \n",
    "        return sum(int(x == y) for (x, y) in test_results)\n",
    "\n",
    "    def cost_derivative(self, output_activations, y):\n",
    "        \"\"\"Return the vector of partial derivatives \\partial C_x /\n",
    "        \\partial a for the output activations.\"\"\"\n",
    "        return (output_activations-y)"
   ]
  },
  {
   "cell_type": "code",
   "execution_count": 135,
   "metadata": {},
   "outputs": [
    {
     "data": {
      "text/plain": [
       "<matplotlib.image.AxesImage at 0x7f8469cedf60>"
      ]
     },
     "execution_count": 135,
     "metadata": {},
     "output_type": "execute_result"
    },
    {
     "data": {
      "image/png": "[encoded data removed]",
      "text/plain": [
       "<Figure size 432x288 with 1 Axes>"
      ]
     },
     "metadata": {},
     "output_type": "display_data"
    }
   ],
   "source": [
    "plt.imshow(x[45].reshape(num_rows, num_cols), cmap = 'gray')"
   ]
  },
  {
   "cell_type": "code",
   "execution_count": null,
   "metadata": {},
   "outputs": [],
   "source": [
    "kf = KFold(n_splits=5)\n",
    "kf.get_n_splits(x)\n",
    "\n",
    "num_epochs = 2000\n",
    "\n",
    "layer_dims = [[784,100,10],[784,50,10],[784,100,50, 10],\n",
    "              [784,200,10]]\n",
    "\n",
    "learning_rates = [1.0, 4.0, 8.0]\n",
    "\n",
    "accuracies = []\n",
    "progress_per_epoch = np.zeros((len(layer_dims)*len(learning_rates), num_epochs))\n",
    "# print(progress_per_epoch.shape)"
   ]
  },
  {
   "cell_type": "code",
   "execution_count": null,
   "metadata": {},
   "outputs": [],
   "source": [
    "for train_index, valid_index in kf.split(x):\n",
    "    \n",
    "    train_x, valid_x = x[train_index], x[valid_index]\n",
    "    train_y, valid_y = data_y[train_index], data_y[valid_index]\n",
    "    \n",
    "    # vectorize training targets\n",
    "    for i in range(len(train_y)):\n",
    "        vect = np.zeros((10,1), dtype=object)\n",
    "        vect[train_y[i]] = 1\n",
    "        train_y[i] = vect.astype(float)\n",
    "    \n",
    "    # reshape and zip train and valid\n",
    "    training_inputs = [np.reshape(x,(train_x.shape[1],1)) \n",
    "                       for x in train_x]\n",
    "    valid_inputs = [np.reshape(x,(valid_x.shape[1],1)) for x in valid_x]\n",
    "    training_data = list(zip(training_inputs, train_y))\n",
    "    valid_data = list(zip(valid_inputs, valid_y))\n",
    "\n",
    "    \n",
    "    pos = 0 \n",
    "    \n",
    "    for i, dim in enumerate(layer_dims):\n",
    "        for j, lr in enumerate(learning_rates):\n",
    "            print(\"NN dimensions: {}, learning rate: {}, \".format(dim, lr) )\n",
    "            average_score = 0\n",
    "            \n",
    "        \n",
    "            neural_net = Network(dim)\n",
    "            valid_score = neural_net.SGD(training_data, num_epochs, 784, lr, valid_data, progress_per_epoch[pos])\n",
    "            average_score += valid_score\n",
    "            accuracies.append(average_score/len(valid_x))\n",
    "            print(average_score)\n",
    "            pos += 1\n",
    "             \n",
    "    \n",
    "# \n",
    "#        neural_net = Network([num_rows*num_cols, 100, 10])\n",
    "#     valid_score = neural_net.SGD(training_data, num_epochs, 784, 4.0, valid_data)\n",
    "#     average_score += valid_score\n",
    "#     average_score /= len(valid_x)\n",
    "    break\n",
    "\n",
    "# print average_accuracy / 5.0"
   ]
  },
  {
   "cell_type": "code",
   "execution_count": 171,
   "metadata": {},
   "outputs": [],
   "source": [
    "kf = KFold(n_splits=5)\n",
    "kf.get_n_splits(x)\n",
    "\n",
    "num_epochs = 2500\n",
    "\n",
    "\n",
    "layer_dims2 = [[784, 50, 100, 10], [784, 70, 30, 70, 10]]\n",
    "\n",
    "\n",
    "learning_rate = 4.0\n",
    "\n",
    "accuracies2 = []\n",
    "progress_per_epoch2 = np.zeros((len(layer_dims2), num_epochs))\n",
    "\n",
    "# print(progress_per_epoch2.shape)"
   ]
  },
  {
   "cell_type": "code",
   "execution_count": 172,
   "metadata": {},
   "outputs": [
    {
     "name": "stdout",
     "output_type": "stream",
     "text": [
      "NN dimensions: [784, 50, 100, 10], learning rate: 4.0, \n",
      "356\n",
      "NN dimensions: [784, 70, 30, 70, 10], learning rate: 4.0, \n",
      "612\n"
     ]
    }
   ],
   "source": [
    "for train_index, valid_index in kf.split(x):\n",
    "    \n",
    "    train_x, valid_x = x[train_index], x[valid_index]\n",
    "    train_y, valid_y = data_y[train_index], data_y[valid_index]\n",
    "    \n",
    "    # vectorize training targets\n",
    "    for i in range(len(train_y)):\n",
    "        vect = np.zeros((10,1), dtype=object)\n",
    "        vect[train_y[i]] = 1\n",
    "        train_y[i] = vect.astype(float)\n",
    "    \n",
    "    # reshape and zip train and valid\n",
    "    training_inputs = [np.reshape(x,(train_x.shape[1],1)) \n",
    "                       for x in train_x]\n",
    "    valid_inputs = [np.reshape(x,(valid_x.shape[1],1)) for x in valid_x]\n",
    "    training_data = list(zip(training_inputs, train_y))\n",
    "    valid_data = list(zip(valid_inputs, valid_y))\n",
    "\n",
    "    \n",
    "    pos = 0 \n",
    "    \n",
    "    for i, dim in enumerate(layer_dims2):\n",
    "        print(\"NN dimensions: {}, learning rate: {}, \".format(dim, learning_rate) )\n",
    "       \n",
    "        average_score = 0\n",
    "\n",
    "        neural_net = Network(dim)\n",
    "        valid_score = neural_net.SGD(training_data, num_epochs, 784, learning_rate, valid_data, progress_per_epoch2[pos])\n",
    "        average_score += valid_score\n",
    "        accuracies2.append(average_score/len(valid_x))\n",
    "        print(average_score)\n",
    "        pos += 1\n",
    "\n",
    "    break"
   ]
  },
  {
   "cell_type": "code",
   "execution_count": 140,
   "metadata": {},
   "outputs": [
    {
     "name": "stdout",
     "output_type": "stream",
     "text": [
      "[0.461, 0.369, 0.433, 0.624, 0.628, 0.619, 0.718, 0.772, 0.536, 0.109, 0.337, 0.109]\n"
     ]
    }
   ],
   "source": [
    "print(accuracies)"
   ]
  },
  {
   "cell_type": "code",
   "execution_count": 141,
   "metadata": {},
   "outputs": [
    {
     "name": "stdout",
     "output_type": "stream",
     "text": [
      "[[ 71.  85.  88. ... 460. 460. 461.]\n",
      " [103. 121. 122. ... 369. 369. 369.]\n",
      " [ 81. 107. 107. ... 434. 425. 433.]\n",
      " ...\n",
      " [139. 129. 130. ... 109. 109. 109.]\n",
      " [108. 102. 102. ... 338. 339. 337.]\n",
      " [126. 124. 123. ... 109. 109. 109.]]\n"
     ]
    }
   ],
   "source": [
    "print(progress_per_epoch)"
   ]
  },
  {
   "cell_type": "code",
   "execution_count": 143,
   "metadata": {},
   "outputs": [],
   "source": [
    "df = pd.DataFrame(accuracies)\n",
    "df.to_csv(\"./data/nn_accuracies.csv\", header = False, index = False)"
   ]
  },
  {
   "cell_type": "code",
   "execution_count": 144,
   "metadata": {},
   "outputs": [],
   "source": [
    "df = pd.DataFrame(progress_per_epoch)\n",
    "df.to_csv(\"./data/nn_progress.csv\", header = False, index = False)"
   ]
  },
  {
   "cell_type": "code",
   "execution_count": 175,
   "metadata": {},
   "outputs": [
    {
     "name": "stdout",
     "output_type": "stream",
     "text": [
      "[353. 354. 353. 354. 353. 354. 353. 354. 353. 354. 353. 354. 353. 354.\n",
      " 353. 354. 353. 354. 353. 354. 353. 355. 353. 355. 352. 355. 352. 355.\n",
      " 352. 355. 352. 355. 352. 355. 352. 355. 352. 355. 352. 355. 352. 355.\n",
      " 352. 355. 352. 355. 352. 355. 352. 355. 352. 355. 352. 355. 352. 355.\n",
      " 352. 355. 353. 355. 353. 355. 353. 355. 353. 355. 353. 355. 353. 355.\n",
      " 353. 355. 353. 355. 353. 355. 353. 355. 353. 355. 353. 355. 353. 355.\n",
      " 353. 355. 353. 355. 353. 355. 353. 355. 353. 355. 353. 355. 353. 355.\n",
      " 353. 355. 353. 355. 353. 355. 353. 355. 353. 355. 353. 355. 353. 355.\n",
      " 354. 356. 354. 356. 354. 356. 354. 356. 354. 356. 354. 356. 354. 356.\n",
      " 354. 356. 354. 356. 354. 356. 354. 356. 354. 356. 354. 356. 354. 356.\n",
      " 354. 356. 354. 356. 354. 356. 354. 356. 354. 356. 354. 356. 354. 356.\n",
      " 354. 356. 354. 356. 354. 356. 354. 356. 354. 356. 354. 356. 354. 356.\n",
      " 354. 356. 354. 356. 354. 356. 353. 356. 353. 356. 353. 356. 353. 356.\n",
      " 353. 356. 353. 356. 353. 356. 353. 356. 353. 356. 353. 356. 353. 356.\n",
      " 354. 356. 354. 356. 354. 356. 354. 356. 354. 356. 354. 356. 354. 356.\n",
      " 354. 356. 354. 356. 354. 357. 355. 357. 355. 357. 355. 357. 355. 357.\n",
      " 355. 357. 355. 357. 355. 357. 355. 357. 355. 357. 355. 357. 355. 357.\n",
      " 355. 357. 355. 357. 355. 357. 355. 357. 355. 357. 355. 357. 355. 357.\n",
      " 355. 357. 355. 357. 355. 357. 355. 357. 355. 357. 355. 357. 355. 357.\n",
      " 355. 357. 356. 357. 356. 357. 356. 357. 356. 357. 356. 357. 356. 357.\n",
      " 356. 357. 356. 357. 356. 357. 356. 357. 356. 357. 356. 357. 356. 357.\n",
      " 356. 357. 356. 357. 356. 357. 356. 356. 356. 356. 356. 356. 356. 356.\n",
      " 356. 356. 356. 356. 356. 356. 356. 356. 356. 356. 356. 356. 356. 356.\n",
      " 356. 356. 356. 356. 356. 356. 356. 356. 356. 356. 356. 356. 356. 356.\n",
      " 356. 356. 356. 356. 356. 356. 356. 356. 356. 356. 356. 356. 356. 356.\n",
      " 356. 356. 356. 356. 356. 356. 356. 356. 356. 356. 356. 356. 356. 356.\n",
      " 356. 356. 356. 356. 356. 356. 356. 356. 356. 356. 356. 356. 356. 356.\n",
      " 356. 356. 356. 356. 356. 356. 356. 356. 356. 356. 356. 356. 356. 356.\n",
      " 356. 356. 356. 356. 356. 356. 356. 355. 356. 355. 356. 355. 356. 355.\n",
      " 356. 355. 356. 355. 356. 355. 356. 355. 356. 355. 356. 355. 356. 355.\n",
      " 356. 355. 356. 355. 356. 355. 356. 355. 356. 355. 356. 355. 356. 355.\n",
      " 356. 355. 356. 355. 356. 355. 356. 355. 356. 355. 356. 355. 356. 355.\n",
      " 356. 355. 356. 355. 356. 355. 356. 355. 356. 355. 356. 355. 356. 355.\n",
      " 356. 355. 356. 355. 356. 355. 356. 355. 356. 355. 356. 355. 356. 355.\n",
      " 356. 355. 356. 355. 356. 355. 356. 355. 356. 356. 356. 356. 356. 356.\n",
      " 356. 356. 356. 356. 356. 356. 356. 356. 356. 356.]\n"
     ]
    }
   ],
   "source": [
    "print(progress_per_epoch2[0, 2000:])"
   ]
  }
 ],
 "metadata": {
  "kernelspec": {
   "display_name": "Python 3",
   "language": "python",
   "name": "python3"
  },
  "language_info": {
   "codemirror_mode": {
    "name": "ipython",
    "version": 3
   },
   "file_extension": ".py",
   "mimetype": "text/x-python",
   "name": "python",
   "nbconvert_exporter": "python",
   "pygments_lexer": "ipython3",
   "version": "3.5.2"
  }
 },
 "nbformat": 4,
 "nbformat_minor": 2
}
